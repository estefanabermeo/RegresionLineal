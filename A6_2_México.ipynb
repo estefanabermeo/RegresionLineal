{
  "nbformat": 4,
  "nbformat_minor": 0,
  "metadata": {
    "colab": {
      "provenance": [],
      "include_colab_link": true
    },
    "kernelspec": {
      "name": "python3",
      "display_name": "Python 3"
    },
    "language_info": {
      "name": "python"
    }
  },
  "cells": [
    {
      "cell_type": "markdown",
      "metadata": {
        "id": "view-in-github",
        "colab_type": "text"
      },
      "source": [
        "<a href=\"https://colab.research.google.com/github/estefanabermeo/RegresionLineal/blob/main/A6_2_M%C3%A9xico.ipynb\" target=\"_parent\"><img src=\"https://colab.research.google.com/assets/colab-badge.svg\" alt=\"Open In Colab\"/></a>"
      ]
    },
    {
      "cell_type": "markdown",
      "source": [
        "# **ACTIVIDAD 6.1 REGRESIÓN LINEAL MULTIPLO DF MÉXICO**\n",
        "#### Estefana Bermeo Severiano\n",
        "#### A01367558\n"
      ],
      "metadata": {
        "id": "sLz6ajOWuXqp"
      }
    },
    {
      "cell_type": "code",
      "execution_count": null,
      "metadata": {
        "id": "L5Epjygo_Vos"
      },
      "outputs": [],
      "source": [
        "import pandas as pd\n",
        "import numpy as np\n",
        "import matplotlib.pyplot as plt\n",
        "import seaborn as sns"
      ]
    },
    {
      "cell_type": "code",
      "source": [
        "MEX = pd.read_excel('mexico_limpio.xltx')"
      ],
      "metadata": {
        "id": "DCp2kQhB_zXT"
      },
      "execution_count": null,
      "outputs": []
    },
    {
      "cell_type": "code",
      "source": [
        "corr = []\n",
        "det = []\n",
        "Ta_V = []"
      ],
      "metadata": {
        "id": "HJRcvPbLED58"
      },
      "execution_count": null,
      "outputs": []
    },
    {
      "cell_type": "markdown",
      "source": [
        "# **Primer tipo de habitación = Private room**"
      ],
      "metadata": {
        "id": "rybBh_l0Bui-"
      }
    },
    {
      "cell_type": "code",
      "source": [
        "PR_MEX = MEX.loc[MEX['room_type'] == \"Private room\"]\n",
        "PR_MEX"
      ],
      "metadata": {
        "colab": {
          "base_uri": "https://localhost:8080/",
          "height": 1000
        },
        "id": "rh1iGxRaBtsx",
        "outputId": "c75ce3f5-f746-4146-f941-0e8c2e19baf7"
      },
      "execution_count": null,
      "outputs": [
        {
          "output_type": "execute_result",
          "data": {
            "text/plain": [
              "       Unnamed: 0                  id  \\\n",
              "7             7.0               61792   \n",
              "16           16.0              760912   \n",
              "17           17.0             2088218   \n",
              "18           18.0             2093036   \n",
              "21           21.0              131610   \n",
              "...           ...                 ...   \n",
              "24201     24200.0  856474000000000000   \n",
              "24214     24213.0  853708000000000000   \n",
              "24216     24215.0  853747000000000000   \n",
              "24219     24218.0  853922000000000000   \n",
              "24222     24221.0  854225000000000000   \n",
              "\n",
              "                                           listing_url       scrape_id  \\\n",
              "7                   https://www.airbnb.com/rooms/61792  20230300000000   \n",
              "16                 https://www.airbnb.com/rooms/760912  20230300000000   \n",
              "17                https://www.airbnb.com/rooms/2088218  20230300000000   \n",
              "18                https://www.airbnb.com/rooms/2093036  20230300000000   \n",
              "21                 https://www.airbnb.com/rooms/131610  20230300000000   \n",
              "...                                                ...             ...   \n",
              "24201  https://www.airbnb.com/rooms/856473895554110501  20230300000000   \n",
              "24214  https://www.airbnb.com/rooms/853707681690048732  20230300000000   \n",
              "24216  https://www.airbnb.com/rooms/853746847434924262  20230300000000   \n",
              "24219  https://www.airbnb.com/rooms/853922041242738127  20230300000000   \n",
              "24222  https://www.airbnb.com/rooms/854225071295768399  20230300000000   \n",
              "\n",
              "              last_scraped       source  \\\n",
              "7      2023-03-30 00:00:00  city scrape   \n",
              "16     2023-03-30 00:00:00  city scrape   \n",
              "17     2023-03-30 00:00:00  city scrape   \n",
              "18     2023-03-29 00:00:00  city scrape   \n",
              "21     2023-03-29 00:00:00  city scrape   \n",
              "...                    ...          ...   \n",
              "24201  2023-03-30 00:00:00  city scrape   \n",
              "24214  2023-03-30 00:00:00  city scrape   \n",
              "24216  2023-03-29 00:00:00  city scrape   \n",
              "24219  2023-03-29 00:00:00  city scrape   \n",
              "24222  2023-03-29 00:00:00  city scrape   \n",
              "\n",
              "                                                  name  \\\n",
              "7      Spacious Clean Quiet room (own bath) in Condesa   \n",
              "16                 Stylish bachelor pad in La Roma, DF   \n",
              "17              Private rooms near old Coyoacan center   \n",
              "18                 Departamento 2 dormitorios x Antara   \n",
              "21                                      MARIA DEL ALMA   \n",
              "...                                                ...   \n",
              "24201                                              506   \n",
              "24214              Beautiful Sunny bedroom off Masaryk   \n",
              "24216   Room with great view & BR 1 block from Reforma   \n",
              "24219                  Excelente Ambiente 5570,835,621   \n",
              "24222           Habitaci√≥n privada en magn√≠fica casa   \n",
              "\n",
              "                                             description  \\\n",
              "7      Located in La Condesa, one of the best neighbo...   \n",
              "16     <b>The space</b><br />If you are coming to Mex...   \n",
              "17     Hello! I have 2 private rooms for rent in a ni...   \n",
              "18     Departamento de 2 dormitorios y 1 banos comple...   \n",
              "21     <b>The space</b><br />VIVE LA EXPERIENCIA DE C...   \n",
              "...                                                  ...   \n",
              "24201  \" THE BRIT \" es un edificio √∫nico en su clase...   \n",
              "24214  This cozy and sunny bedroom is the perfect pla...   \n",
              "24216  Private room in Penthouse located in the heart...   \n",
              "24219  Tu familia estar√° cerca de todo si te hospeda...   \n",
              "24222  Rel√°jate en este espacio muy tranquilo y eleg...   \n",
              "\n",
              "                                   neighborhood_overview  \\\n",
              "7      You are going to be in one of the nicest neigh...   \n",
              "16                                                     0   \n",
              "17     Es una zona residencial de Coyoac√°n, ubicada ...   \n",
              "18     El apartamento se encuentra en una zona reside...   \n",
              "21                                                     0   \n",
              "...                                                  ...   \n",
              "24201                                                  0   \n",
              "24214  Polanco one of the safest and best neighborhoo...   \n",
              "24216  Many restaurant option as well as cafes and ba...   \n",
              "24219                                                  0   \n",
              "24222                                                  0   \n",
              "\n",
              "                                             picture_url  ...  \\\n",
              "7      https://a0.muscache.com/pictures/4c674e38-42f8...  ...   \n",
              "16     https://a0.muscache.com/pictures/10580755/b2dc...  ...   \n",
              "17     https://a0.muscache.com/pictures/32395878/54f6...  ...   \n",
              "18     https://a0.muscache.com/pictures/28553895/71d5...  ...   \n",
              "21     https://a0.muscache.com/pictures/837085/b9ed71...  ...   \n",
              "...                                                  ...  ...   \n",
              "24201  https://a0.muscache.com/pictures/miso/Hosting-...  ...   \n",
              "24214  https://a0.muscache.com/pictures/miso/Hosting-...  ...   \n",
              "24216  https://a0.muscache.com/pictures/miso/Hosting-...  ...   \n",
              "24219  https://a0.muscache.com/pictures/d2e3ac33-c092...  ...   \n",
              "24222  https://a0.muscache.com/pictures/db71951a-8696...  ...   \n",
              "\n",
              "      review_scores_communication review_scores_location review_scores_value  \\\n",
              "7                            4.95                   4.94                4.87   \n",
              "16                           4.60                   4.80                4.60   \n",
              "17                           4.80                   4.40                4.40   \n",
              "18                           0.00                   0.00                0.00   \n",
              "21                           0.00                   0.00                0.00   \n",
              "...                           ...                    ...                 ...   \n",
              "24201                        0.00                   0.00                0.00   \n",
              "24214                        0.00                   0.00                0.00   \n",
              "24216                        0.00                   0.00                0.00   \n",
              "24219                        0.00                   0.00                0.00   \n",
              "24222                        0.00                   0.00                0.00   \n",
              "\n",
              "      license instant_bookable calculated_host_listings_count  \\\n",
              "7         0.0                f                            2.0   \n",
              "16        0.0                f                            1.0   \n",
              "17        0.0                f                            1.0   \n",
              "18        0.0                f                            1.0   \n",
              "21        0.0                f                            3.0   \n",
              "...       ...              ...                            ...   \n",
              "24201     0.0                t                            6.0   \n",
              "24214     0.0                f                            1.0   \n",
              "24216     0.0                f                            1.0   \n",
              "24219     0.0                t                            2.0   \n",
              "24222     0.0                f                            1.0   \n",
              "\n",
              "      calculated_host_listings_count_entire_homes  \\\n",
              "7                                             0.0   \n",
              "16                                            0.0   \n",
              "17                                            0.0   \n",
              "18                                            0.0   \n",
              "21                                            1.0   \n",
              "...                                           ...   \n",
              "24201                                         1.0   \n",
              "24214                                         0.0   \n",
              "24216                                         0.0   \n",
              "24219                                         0.0   \n",
              "24222                                         0.0   \n",
              "\n",
              "      calculated_host_listings_count_private_rooms  \\\n",
              "7                                              2.0   \n",
              "16                                             1.0   \n",
              "17                                             1.0   \n",
              "18                                             1.0   \n",
              "21                                             2.0   \n",
              "...                                            ...   \n",
              "24201                                          5.0   \n",
              "24214                                          1.0   \n",
              "24216                                          1.0   \n",
              "24219                                          2.0   \n",
              "24222                                          1.0   \n",
              "\n",
              "      calculated_host_listings_count_shared_rooms reviews_per_month  \n",
              "7                                             0.0              0.94  \n",
              "16                                            0.0              0.04  \n",
              "17                                            0.0              0.04  \n",
              "18                                            0.0              0.00  \n",
              "21                                            0.0              0.00  \n",
              "...                                           ...               ...  \n",
              "24201                                         0.0              0.00  \n",
              "24214                                         0.0              0.00  \n",
              "24216                                         0.0              0.00  \n",
              "24219                                         0.0              0.00  \n",
              "24222                                         0.0              0.00  \n",
              "\n",
              "[8202 rows x 73 columns]"
            ],
            "text/html": [
              "\n",
              "  <div id=\"df-6ef525e3-8f3d-4cfd-abbc-61e37d31c6c5\">\n",
              "    <div class=\"colab-df-container\">\n",
              "      <div>\n",
              "<style scoped>\n",
              "    .dataframe tbody tr th:only-of-type {\n",
              "        vertical-align: middle;\n",
              "    }\n",
              "\n",
              "    .dataframe tbody tr th {\n",
              "        vertical-align: top;\n",
              "    }\n",
              "\n",
              "    .dataframe thead th {\n",
              "        text-align: right;\n",
              "    }\n",
              "</style>\n",
              "<table border=\"1\" class=\"dataframe\">\n",
              "  <thead>\n",
              "    <tr style=\"text-align: right;\">\n",
              "      <th></th>\n",
              "      <th>Unnamed: 0</th>\n",
              "      <th>id</th>\n",
              "      <th>listing_url</th>\n",
              "      <th>scrape_id</th>\n",
              "      <th>last_scraped</th>\n",
              "      <th>source</th>\n",
              "      <th>name</th>\n",
              "      <th>description</th>\n",
              "      <th>neighborhood_overview</th>\n",
              "      <th>picture_url</th>\n",
              "      <th>...</th>\n",
              "      <th>review_scores_communication</th>\n",
              "      <th>review_scores_location</th>\n",
              "      <th>review_scores_value</th>\n",
              "      <th>license</th>\n",
              "      <th>instant_bookable</th>\n",
              "      <th>calculated_host_listings_count</th>\n",
              "      <th>calculated_host_listings_count_entire_homes</th>\n",
              "      <th>calculated_host_listings_count_private_rooms</th>\n",
              "      <th>calculated_host_listings_count_shared_rooms</th>\n",
              "      <th>reviews_per_month</th>\n",
              "    </tr>\n",
              "  </thead>\n",
              "  <tbody>\n",
              "    <tr>\n",
              "      <th>7</th>\n",
              "      <td>7.0</td>\n",
              "      <td>61792</td>\n",
              "      <td>https://www.airbnb.com/rooms/61792</td>\n",
              "      <td>20230300000000</td>\n",
              "      <td>2023-03-30 00:00:00</td>\n",
              "      <td>city scrape</td>\n",
              "      <td>Spacious Clean Quiet room (own bath) in Condesa</td>\n",
              "      <td>Located in La Condesa, one of the best neighbo...</td>\n",
              "      <td>You are going to be in one of the nicest neigh...</td>\n",
              "      <td>https://a0.muscache.com/pictures/4c674e38-42f8...</td>\n",
              "      <td>...</td>\n",
              "      <td>4.95</td>\n",
              "      <td>4.94</td>\n",
              "      <td>4.87</td>\n",
              "      <td>0.0</td>\n",
              "      <td>f</td>\n",
              "      <td>2.0</td>\n",
              "      <td>0.0</td>\n",
              "      <td>2.0</td>\n",
              "      <td>0.0</td>\n",
              "      <td>0.94</td>\n",
              "    </tr>\n",
              "    <tr>\n",
              "      <th>16</th>\n",
              "      <td>16.0</td>\n",
              "      <td>760912</td>\n",
              "      <td>https://www.airbnb.com/rooms/760912</td>\n",
              "      <td>20230300000000</td>\n",
              "      <td>2023-03-30 00:00:00</td>\n",
              "      <td>city scrape</td>\n",
              "      <td>Stylish bachelor pad in La Roma, DF</td>\n",
              "      <td>&lt;b&gt;The space&lt;/b&gt;&lt;br /&gt;If you are coming to Mex...</td>\n",
              "      <td>0</td>\n",
              "      <td>https://a0.muscache.com/pictures/10580755/b2dc...</td>\n",
              "      <td>...</td>\n",
              "      <td>4.60</td>\n",
              "      <td>4.80</td>\n",
              "      <td>4.60</td>\n",
              "      <td>0.0</td>\n",
              "      <td>f</td>\n",
              "      <td>1.0</td>\n",
              "      <td>0.0</td>\n",
              "      <td>1.0</td>\n",
              "      <td>0.0</td>\n",
              "      <td>0.04</td>\n",
              "    </tr>\n",
              "    <tr>\n",
              "      <th>17</th>\n",
              "      <td>17.0</td>\n",
              "      <td>2088218</td>\n",
              "      <td>https://www.airbnb.com/rooms/2088218</td>\n",
              "      <td>20230300000000</td>\n",
              "      <td>2023-03-30 00:00:00</td>\n",
              "      <td>city scrape</td>\n",
              "      <td>Private rooms near old Coyoacan center</td>\n",
              "      <td>Hello! I have 2 private rooms for rent in a ni...</td>\n",
              "      <td>Es una zona residencial de Coyoac√°n, ubicada ...</td>\n",
              "      <td>https://a0.muscache.com/pictures/32395878/54f6...</td>\n",
              "      <td>...</td>\n",
              "      <td>4.80</td>\n",
              "      <td>4.40</td>\n",
              "      <td>4.40</td>\n",
              "      <td>0.0</td>\n",
              "      <td>f</td>\n",
              "      <td>1.0</td>\n",
              "      <td>0.0</td>\n",
              "      <td>1.0</td>\n",
              "      <td>0.0</td>\n",
              "      <td>0.04</td>\n",
              "    </tr>\n",
              "    <tr>\n",
              "      <th>18</th>\n",
              "      <td>18.0</td>\n",
              "      <td>2093036</td>\n",
              "      <td>https://www.airbnb.com/rooms/2093036</td>\n",
              "      <td>20230300000000</td>\n",
              "      <td>2023-03-29 00:00:00</td>\n",
              "      <td>city scrape</td>\n",
              "      <td>Departamento 2 dormitorios x Antara</td>\n",
              "      <td>Departamento de 2 dormitorios y 1 banos comple...</td>\n",
              "      <td>El apartamento se encuentra en una zona reside...</td>\n",
              "      <td>https://a0.muscache.com/pictures/28553895/71d5...</td>\n",
              "      <td>...</td>\n",
              "      <td>0.00</td>\n",
              "      <td>0.00</td>\n",
              "      <td>0.00</td>\n",
              "      <td>0.0</td>\n",
              "      <td>f</td>\n",
              "      <td>1.0</td>\n",
              "      <td>0.0</td>\n",
              "      <td>1.0</td>\n",
              "      <td>0.0</td>\n",
              "      <td>0.00</td>\n",
              "    </tr>\n",
              "    <tr>\n",
              "      <th>21</th>\n",
              "      <td>21.0</td>\n",
              "      <td>131610</td>\n",
              "      <td>https://www.airbnb.com/rooms/131610</td>\n",
              "      <td>20230300000000</td>\n",
              "      <td>2023-03-29 00:00:00</td>\n",
              "      <td>city scrape</td>\n",
              "      <td>MARIA DEL ALMA</td>\n",
              "      <td>&lt;b&gt;The space&lt;/b&gt;&lt;br /&gt;VIVE LA EXPERIENCIA DE C...</td>\n",
              "      <td>0</td>\n",
              "      <td>https://a0.muscache.com/pictures/837085/b9ed71...</td>\n",
              "      <td>...</td>\n",
              "      <td>0.00</td>\n",
              "      <td>0.00</td>\n",
              "      <td>0.00</td>\n",
              "      <td>0.0</td>\n",
              "      <td>f</td>\n",
              "      <td>3.0</td>\n",
              "      <td>1.0</td>\n",
              "      <td>2.0</td>\n",
              "      <td>0.0</td>\n",
              "      <td>0.00</td>\n",
              "    </tr>\n",
              "    <tr>\n",
              "      <th>...</th>\n",
              "      <td>...</td>\n",
              "      <td>...</td>\n",
              "      <td>...</td>\n",
              "      <td>...</td>\n",
              "      <td>...</td>\n",
              "      <td>...</td>\n",
              "      <td>...</td>\n",
              "      <td>...</td>\n",
              "      <td>...</td>\n",
              "      <td>...</td>\n",
              "      <td>...</td>\n",
              "      <td>...</td>\n",
              "      <td>...</td>\n",
              "      <td>...</td>\n",
              "      <td>...</td>\n",
              "      <td>...</td>\n",
              "      <td>...</td>\n",
              "      <td>...</td>\n",
              "      <td>...</td>\n",
              "      <td>...</td>\n",
              "      <td>...</td>\n",
              "    </tr>\n",
              "    <tr>\n",
              "      <th>24201</th>\n",
              "      <td>24200.0</td>\n",
              "      <td>856474000000000000</td>\n",
              "      <td>https://www.airbnb.com/rooms/856473895554110501</td>\n",
              "      <td>20230300000000</td>\n",
              "      <td>2023-03-30 00:00:00</td>\n",
              "      <td>city scrape</td>\n",
              "      <td>506</td>\n",
              "      <td>\" THE BRIT \" es un edificio √∫nico en su clase...</td>\n",
              "      <td>0</td>\n",
              "      <td>https://a0.muscache.com/pictures/miso/Hosting-...</td>\n",
              "      <td>...</td>\n",
              "      <td>0.00</td>\n",
              "      <td>0.00</td>\n",
              "      <td>0.00</td>\n",
              "      <td>0.0</td>\n",
              "      <td>t</td>\n",
              "      <td>6.0</td>\n",
              "      <td>1.0</td>\n",
              "      <td>5.0</td>\n",
              "      <td>0.0</td>\n",
              "      <td>0.00</td>\n",
              "    </tr>\n",
              "    <tr>\n",
              "      <th>24214</th>\n",
              "      <td>24213.0</td>\n",
              "      <td>853708000000000000</td>\n",
              "      <td>https://www.airbnb.com/rooms/853707681690048732</td>\n",
              "      <td>20230300000000</td>\n",
              "      <td>2023-03-30 00:00:00</td>\n",
              "      <td>city scrape</td>\n",
              "      <td>Beautiful Sunny bedroom off Masaryk</td>\n",
              "      <td>This cozy and sunny bedroom is the perfect pla...</td>\n",
              "      <td>Polanco one of the safest and best neighborhoo...</td>\n",
              "      <td>https://a0.muscache.com/pictures/miso/Hosting-...</td>\n",
              "      <td>...</td>\n",
              "      <td>0.00</td>\n",
              "      <td>0.00</td>\n",
              "      <td>0.00</td>\n",
              "      <td>0.0</td>\n",
              "      <td>f</td>\n",
              "      <td>1.0</td>\n",
              "      <td>0.0</td>\n",
              "      <td>1.0</td>\n",
              "      <td>0.0</td>\n",
              "      <td>0.00</td>\n",
              "    </tr>\n",
              "    <tr>\n",
              "      <th>24216</th>\n",
              "      <td>24215.0</td>\n",
              "      <td>853747000000000000</td>\n",
              "      <td>https://www.airbnb.com/rooms/853746847434924262</td>\n",
              "      <td>20230300000000</td>\n",
              "      <td>2023-03-29 00:00:00</td>\n",
              "      <td>city scrape</td>\n",
              "      <td>Room with great view &amp; BR 1 block from Reforma</td>\n",
              "      <td>Private room in Penthouse located in the heart...</td>\n",
              "      <td>Many restaurant option as well as cafes and ba...</td>\n",
              "      <td>https://a0.muscache.com/pictures/miso/Hosting-...</td>\n",
              "      <td>...</td>\n",
              "      <td>0.00</td>\n",
              "      <td>0.00</td>\n",
              "      <td>0.00</td>\n",
              "      <td>0.0</td>\n",
              "      <td>f</td>\n",
              "      <td>1.0</td>\n",
              "      <td>0.0</td>\n",
              "      <td>1.0</td>\n",
              "      <td>0.0</td>\n",
              "      <td>0.00</td>\n",
              "    </tr>\n",
              "    <tr>\n",
              "      <th>24219</th>\n",
              "      <td>24218.0</td>\n",
              "      <td>853922000000000000</td>\n",
              "      <td>https://www.airbnb.com/rooms/853922041242738127</td>\n",
              "      <td>20230300000000</td>\n",
              "      <td>2023-03-29 00:00:00</td>\n",
              "      <td>city scrape</td>\n",
              "      <td>Excelente Ambiente 5570,835,621</td>\n",
              "      <td>Tu familia estar√° cerca de todo si te hospeda...</td>\n",
              "      <td>0</td>\n",
              "      <td>https://a0.muscache.com/pictures/d2e3ac33-c092...</td>\n",
              "      <td>...</td>\n",
              "      <td>0.00</td>\n",
              "      <td>0.00</td>\n",
              "      <td>0.00</td>\n",
              "      <td>0.0</td>\n",
              "      <td>t</td>\n",
              "      <td>2.0</td>\n",
              "      <td>0.0</td>\n",
              "      <td>2.0</td>\n",
              "      <td>0.0</td>\n",
              "      <td>0.00</td>\n",
              "    </tr>\n",
              "    <tr>\n",
              "      <th>24222</th>\n",
              "      <td>24221.0</td>\n",
              "      <td>854225000000000000</td>\n",
              "      <td>https://www.airbnb.com/rooms/854225071295768399</td>\n",
              "      <td>20230300000000</td>\n",
              "      <td>2023-03-29 00:00:00</td>\n",
              "      <td>city scrape</td>\n",
              "      <td>Habitaci√≥n privada en magn√≠fica casa</td>\n",
              "      <td>Rel√°jate en este espacio muy tranquilo y eleg...</td>\n",
              "      <td>0</td>\n",
              "      <td>https://a0.muscache.com/pictures/db71951a-8696...</td>\n",
              "      <td>...</td>\n",
              "      <td>0.00</td>\n",
              "      <td>0.00</td>\n",
              "      <td>0.00</td>\n",
              "      <td>0.0</td>\n",
              "      <td>f</td>\n",
              "      <td>1.0</td>\n",
              "      <td>0.0</td>\n",
              "      <td>1.0</td>\n",
              "      <td>0.0</td>\n",
              "      <td>0.00</td>\n",
              "    </tr>\n",
              "  </tbody>\n",
              "</table>\n",
              "<p>8202 rows × 73 columns</p>\n",
              "</div>\n",
              "      <button class=\"colab-df-convert\" onclick=\"convertToInteractive('df-6ef525e3-8f3d-4cfd-abbc-61e37d31c6c5')\"\n",
              "              title=\"Convert this dataframe to an interactive table.\"\n",
              "              style=\"display:none;\">\n",
              "        \n",
              "  <svg xmlns=\"http://www.w3.org/2000/svg\" height=\"24px\"viewBox=\"0 0 24 24\"\n",
              "       width=\"24px\">\n",
              "    <path d=\"M0 0h24v24H0V0z\" fill=\"none\"/>\n",
              "    <path d=\"M18.56 5.44l.94 2.06.94-2.06 2.06-.94-2.06-.94-.94-2.06-.94 2.06-2.06.94zm-11 1L8.5 8.5l.94-2.06 2.06-.94-2.06-.94L8.5 2.5l-.94 2.06-2.06.94zm10 10l.94 2.06.94-2.06 2.06-.94-2.06-.94-.94-2.06-.94 2.06-2.06.94z\"/><path d=\"M17.41 7.96l-1.37-1.37c-.4-.4-.92-.59-1.43-.59-.52 0-1.04.2-1.43.59L10.3 9.45l-7.72 7.72c-.78.78-.78 2.05 0 2.83L4 21.41c.39.39.9.59 1.41.59.51 0 1.02-.2 1.41-.59l7.78-7.78 2.81-2.81c.8-.78.8-2.07 0-2.86zM5.41 20L4 18.59l7.72-7.72 1.47 1.35L5.41 20z\"/>\n",
              "  </svg>\n",
              "      </button>\n",
              "      \n",
              "  <style>\n",
              "    .colab-df-container {\n",
              "      display:flex;\n",
              "      flex-wrap:wrap;\n",
              "      gap: 12px;\n",
              "    }\n",
              "\n",
              "    .colab-df-convert {\n",
              "      background-color: #E8F0FE;\n",
              "      border: none;\n",
              "      border-radius: 50%;\n",
              "      cursor: pointer;\n",
              "      display: none;\n",
              "      fill: #1967D2;\n",
              "      height: 32px;\n",
              "      padding: 0 0 0 0;\n",
              "      width: 32px;\n",
              "    }\n",
              "\n",
              "    .colab-df-convert:hover {\n",
              "      background-color: #E2EBFA;\n",
              "      box-shadow: 0px 1px 2px rgba(60, 64, 67, 0.3), 0px 1px 3px 1px rgba(60, 64, 67, 0.15);\n",
              "      fill: #174EA6;\n",
              "    }\n",
              "\n",
              "    [theme=dark] .colab-df-convert {\n",
              "      background-color: #3B4455;\n",
              "      fill: #D2E3FC;\n",
              "    }\n",
              "\n",
              "    [theme=dark] .colab-df-convert:hover {\n",
              "      background-color: #434B5C;\n",
              "      box-shadow: 0px 1px 3px 1px rgba(0, 0, 0, 0.15);\n",
              "      filter: drop-shadow(0px 1px 2px rgba(0, 0, 0, 0.3));\n",
              "      fill: #FFFFFF;\n",
              "    }\n",
              "  </style>\n",
              "\n",
              "      <script>\n",
              "        const buttonEl =\n",
              "          document.querySelector('#df-6ef525e3-8f3d-4cfd-abbc-61e37d31c6c5 button.colab-df-convert');\n",
              "        buttonEl.style.display =\n",
              "          google.colab.kernel.accessAllowed ? 'block' : 'none';\n",
              "\n",
              "        async function convertToInteractive(key) {\n",
              "          const element = document.querySelector('#df-6ef525e3-8f3d-4cfd-abbc-61e37d31c6c5');\n",
              "          const dataTable =\n",
              "            await google.colab.kernel.invokeFunction('convertToInteractive',\n",
              "                                                     [key], {});\n",
              "          if (!dataTable) return;\n",
              "\n",
              "          const docLinkHtml = 'Like what you see? Visit the ' +\n",
              "            '<a target=\"_blank\" href=https://colab.research.google.com/notebooks/data_table.ipynb>data table notebook</a>'\n",
              "            + ' to learn more about interactive tables.';\n",
              "          element.innerHTML = '';\n",
              "          dataTable['output_type'] = 'display_data';\n",
              "          await google.colab.output.renderOutput(dataTable, element);\n",
              "          const docLink = document.createElement('div');\n",
              "          docLink.innerHTML = docLinkHtml;\n",
              "          element.appendChild(docLink);\n",
              "        }\n",
              "      </script>\n",
              "    </div>\n",
              "  </div>\n",
              "  "
            ]
          },
          "metadata": {},
          "execution_count": 43
        }
      ]
    },
    {
      "cell_type": "markdown",
      "source": [
        "### host_acceptance_rate vs host_response_rate, Price, number_of_reviews , review_scores_rating"
      ],
      "metadata": {
        "id": "mgEguCVcCBU_"
      }
    },
    {
      "cell_type": "code",
      "source": [
        "from turtle import color\n",
        "\n",
        "\n",
        "sns.scatterplot(x='host_response_rate', y='host_acceptance_rate', color=\"blue\", data=PR_MEX)\n",
        "sns.scatterplot(x='price', y='host_acceptance_rate', color=\"red\", data=PR_MEX)\n",
        "sns.scatterplot(x='number_of_reviews', y='host_acceptance_rate', color=\"green\", data=PR_MEX)\n",
        "sns.scatterplot(x='review_scores_rating', y='host_acceptance_rate', color=\"yellow\", data=PR_MEX)"
      ],
      "metadata": {
        "colab": {
          "base_uri": "https://localhost:8080/",
          "height": 468
        },
        "id": "K8QrOIfcBg0n",
        "outputId": "2ce46e57-8263-4c0f-d3bb-0577676bee1b"
      },
      "execution_count": null,
      "outputs": [
        {
          "output_type": "execute_result",
          "data": {
            "text/plain": [
              "<Axes: xlabel='host_response_rate', ylabel='host_acceptance_rate'>"
            ]
          },
          "metadata": {},
          "execution_count": 44
        },
        {
          "output_type": "display_data",
          "data": {
            "text/plain": [
              "<Figure size 640x480 with 1 Axes>"
            ],
            "image/png": "[encoded data removed]"
          },
          "metadata": {}
        }
      ]
    },
    {
      "cell_type": "code",
      "source": [
        "#Declaramos las variables dependientes e independientes para la regresión lineal\n",
        "Vars_Indep= PR_MEX[['host_response_rate', 'price', 'number_of_reviews' , 'review_scores_rating']]\n",
        "Var_Dep= PR_MEX['host_acceptance_rate']"
      ],
      "metadata": {
        "id": "FVbTG6TpC481"
      },
      "execution_count": null,
      "outputs": []
    },
    {
      "cell_type": "code",
      "source": [
        "#Se define model como la función de regresión lineal\n",
        "from sklearn.linear_model import LinearRegression\n",
        "model= LinearRegression()"
      ],
      "metadata": {
        "id": "Jby7vWxVL2ZS"
      },
      "execution_count": null,
      "outputs": []
    },
    {
      "cell_type": "code",
      "source": [
        "#Verificamos la función relacionada al modelo\n",
        "type(model)"
      ],
      "metadata": {
        "colab": {
          "base_uri": "https://localhost:8080/"
        },
        "id": "5cb3-qg0L4NV",
        "outputId": "d76cd452-51ed-4f97-f02c-4dbf76bed153"
      },
      "execution_count": null,
      "outputs": [
        {
          "output_type": "execute_result",
          "data": {
            "text/plain": [
              "sklearn.linear_model._base.LinearRegression"
            ]
          },
          "metadata": {},
          "execution_count": 47
        }
      ]
    },
    {
      "cell_type": "code",
      "source": [
        "#Ajustamos el modelo con las variables antes declaradas\n",
        "model.fit(X=Vars_Indep, y=Var_Dep)"
      ],
      "metadata": {
        "colab": {
          "base_uri": "https://localhost:8080/",
          "height": 75
        },
        "id": "ZJYORGSRL6CN",
        "outputId": "785797d9-e1a9-4a5b-d79f-64856d8f5a46"
      },
      "execution_count": null,
      "outputs": [
        {
          "output_type": "execute_result",
          "data": {
            "text/plain": [
              "LinearRegression()"
            ],
            "text/html": [
              "<style>#sk-container-id-1 {color: black;background-color: white;}#sk-container-id-1 pre{padding: 0;}#sk-container-id-1 div.sk-toggleable {background-color: white;}#sk-container-id-1 label.sk-toggleable__label {cursor: pointer;display: block;width: 100%;margin-bottom: 0;padding: 0.3em;box-sizing: border-box;text-align: center;}#sk-container-id-1 label.sk-toggleable__label-arrow:before {content: \"▸\";float: left;margin-right: 0.25em;color: #696969;}#sk-container-id-1 label.sk-toggleable__label-arrow:hover:before {color: black;}#sk-container-id-1 div.sk-estimator:hover label.sk-toggleable__label-arrow:before {color: black;}#sk-container-id-1 div.sk-toggleable__content {max-height: 0;max-width: 0;overflow: hidden;text-align: left;background-color: #f0f8ff;}#sk-container-id-1 div.sk-toggleable__content pre {margin: 0.2em;color: black;border-radius: 0.25em;background-color: #f0f8ff;}#sk-container-id-1 input.sk-toggleable__control:checked~div.sk-toggleable__content {max-height: 200px;max-width: 100%;overflow: auto;}#sk-container-id-1 input.sk-toggleable__control:checked~label.sk-toggleable__label-arrow:before {content: \"▾\";}#sk-container-id-1 div.sk-estimator input.sk-toggleable__control:checked~label.sk-toggleable__label {background-color: #d4ebff;}#sk-container-id-1 div.sk-label input.sk-toggleable__control:checked~label.sk-toggleable__label {background-color: #d4ebff;}#sk-container-id-1 input.sk-hidden--visually {border: 0;clip: rect(1px 1px 1px 1px);clip: rect(1px, 1px, 1px, 1px);height: 1px;margin: -1px;overflow: hidden;padding: 0;position: absolute;width: 1px;}#sk-container-id-1 div.sk-estimator {font-family: monospace;background-color: #f0f8ff;border: 1px dotted black;border-radius: 0.25em;box-sizing: border-box;margin-bottom: 0.5em;}#sk-container-id-1 div.sk-estimator:hover {background-color: #d4ebff;}#sk-container-id-1 div.sk-parallel-item::after {content: \"\";width: 100%;border-bottom: 1px solid gray;flex-grow: 1;}#sk-container-id-1 div.sk-label:hover label.sk-toggleable__label {background-color: #d4ebff;}#sk-container-id-1 div.sk-serial::before {content: \"\";position: absolute;border-left: 1px solid gray;box-sizing: border-box;top: 0;bottom: 0;left: 50%;z-index: 0;}#sk-container-id-1 div.sk-serial {display: flex;flex-direction: column;align-items: center;background-color: white;padding-right: 0.2em;padding-left: 0.2em;position: relative;}#sk-container-id-1 div.sk-item {position: relative;z-index: 1;}#sk-container-id-1 div.sk-parallel {display: flex;align-items: stretch;justify-content: center;background-color: white;position: relative;}#sk-container-id-1 div.sk-item::before, #sk-container-id-1 div.sk-parallel-item::before {content: \"\";position: absolute;border-left: 1px solid gray;box-sizing: border-box;top: 0;bottom: 0;left: 50%;z-index: -1;}#sk-container-id-1 div.sk-parallel-item {display: flex;flex-direction: column;z-index: 1;position: relative;background-color: white;}#sk-container-id-1 div.sk-parallel-item:first-child::after {align-self: flex-end;width: 50%;}#sk-container-id-1 div.sk-parallel-item:last-child::after {align-self: flex-start;width: 50%;}#sk-container-id-1 div.sk-parallel-item:only-child::after {width: 0;}#sk-container-id-1 div.sk-dashed-wrapped {border: 1px dashed gray;margin: 0 0.4em 0.5em 0.4em;box-sizing: border-box;padding-bottom: 0.4em;background-color: white;}#sk-container-id-1 div.sk-label label {font-family: monospace;font-weight: bold;display: inline-block;line-height: 1.2em;}#sk-container-id-1 div.sk-label-container {text-align: center;}#sk-container-id-1 div.sk-container {/* jupyter's `normalize.less` sets `[hidden] { display: none; }` but bootstrap.min.css set `[hidden] { display: none !important; }` so we also need the `!important` here to be able to override the default hidden behavior on the sphinx rendered scikit-learn.org. See: https://github.com/scikit-learn/scikit-learn/issues/21755 */display: inline-block !important;position: relative;}#sk-container-id-1 div.sk-text-repr-fallback {display: none;}</style><div id=\"sk-container-id-1\" class=\"sk-top-container\"><div class=\"sk-text-repr-fallback\"><pre>LinearRegression()</pre><b>In a Jupyter environment, please rerun this cell to show the HTML representation or trust the notebook. <br />On GitHub, the HTML representation is unable to render, please try loading this page with nbviewer.org.</b></div><div class=\"sk-container\" hidden><div class=\"sk-item\"><div class=\"sk-estimator sk-toggleable\"><input class=\"sk-toggleable__control sk-hidden--visually\" id=\"sk-estimator-id-1\" type=\"checkbox\" checked><label for=\"sk-estimator-id-1\" class=\"sk-toggleable__label sk-toggleable__label-arrow\">LinearRegression</label><div class=\"sk-toggleable__content\"><pre>LinearRegression()</pre></div></div></div></div></div>"
            ]
          },
          "metadata": {},
          "execution_count": 48
        }
      ]
    },
    {
      "cell_type": "code",
      "source": [
        "#Verificamos los coeficientes obtenidos para el modelo ajustado\n",
        "model.__dict__"
      ],
      "metadata": {
        "colab": {
          "base_uri": "https://localhost:8080/"
        },
        "id": "CKFTFN9ZL9ZO",
        "outputId": "9f215a54-da10-4988-9487-6eb6bd2a73a4"
      },
      "execution_count": null,
      "outputs": [
        {
          "output_type": "execute_result",
          "data": {
            "text/plain": [
              "{'fit_intercept': True,\n",
              " 'copy_X': True,\n",
              " 'n_jobs': None,\n",
              " 'positive': False,\n",
              " 'feature_names_in_': array(['host_response_rate', 'price', 'number_of_reviews',\n",
              "        'review_scores_rating'], dtype=object),\n",
              " 'n_features_in_': 4,\n",
              " 'coef_': array([ 5.00103565e-01, -1.69786068e-07,  1.62666347e-04,  2.88141425e-02]),\n",
              " 'rank_': 4,\n",
              " 'singular_': array([2.16083042e+06, 5.20381105e+03, 1.76547578e+02, 3.42014074e+01]),\n",
              " 'intercept_': 0.29009135826254184}"
            ]
          },
          "metadata": {},
          "execution_count": 49
        }
      ]
    },
    {
      "cell_type": "markdown",
      "source": [
        "**Modelo matemático: y= 5.00103565e-01 + -1.69786068e-07 + 1.62666347e-04 + 2.88141425e-02 + 0.29009135826254184**"
      ],
      "metadata": {
        "id": "VrCYFniMMfji"
      }
    },
    {
      "cell_type": "code",
      "source": [
        "#Corroboramos cual es el coeficiente de Determinación de nuestro modelo\n",
        "coef_Deter1=model.score(X=Vars_Indep, y=Var_Dep)\n",
        "coef_Deter1"
      ],
      "metadata": {
        "colab": {
          "base_uri": "https://localhost:8080/"
        },
        "id": "AfdyhM6eNLL7",
        "outputId": "eefb7d7c-d3bf-4dc7-e116-606cadc80acf"
      },
      "execution_count": null,
      "outputs": [
        {
          "output_type": "execute_result",
          "data": {
            "text/plain": [
              "0.4062882379696481"
            ]
          },
          "metadata": {},
          "execution_count": 50
        }
      ]
    },
    {
      "cell_type": "code",
      "source": [
        "#Corroboramos cual es el coeficiente de Correlación de nuestro modelo\n",
        "coef_Correl1=np.sqrt(coef_Deter1)\n",
        "coef_Correl1"
      ],
      "metadata": {
        "colab": {
          "base_uri": "https://localhost:8080/"
        },
        "id": "FHBqTlkQNM3z",
        "outputId": "619c2b55-5220-47bb-c70b-71621a717143"
      },
      "execution_count": null,
      "outputs": [
        {
          "output_type": "execute_result",
          "data": {
            "text/plain": [
              "0.6374074348245775"
            ]
          },
          "metadata": {},
          "execution_count": 51
        }
      ]
    },
    {
      "cell_type": "code",
      "source": [
        "det.append(coef_Deter1)\n",
        "corr.append(np.sqrt(coef_Correl1))\n",
        "Ta_V.append(\"Private room / host_acceptance_rate vs host_response_rate, Price, number_of_reviews , review_scores_rating\")"
      ],
      "metadata": {
        "id": "jJmZDyNQD7Kn"
      },
      "execution_count": null,
      "outputs": []
    },
    {
      "cell_type": "markdown",
      "source": [
        "### Price vs availability_365, host_response_rate, number_of_reviews, accommodates"
      ],
      "metadata": {
        "id": "ENExMZYrEWWD"
      }
    },
    {
      "cell_type": "code",
      "source": [
        "from turtle import color\n",
        "\n",
        "sns.scatterplot(x='availability_365', y='price', color=\"red\", data=PR_MEX)\n",
        "sns.scatterplot(x='host_response_rate', y='price', color=\"blue\", data=PR_MEX)\n",
        "sns.scatterplot(x='number_of_reviews', y='price', color=\"green\", data=PR_MEX)\n",
        "sns.scatterplot(x='accommodates', y='price', color=\"yellow\", data=PR_MEX)"
      ],
      "metadata": {
        "colab": {
          "base_uri": "https://localhost:8080/",
          "height": 483
        },
        "outputId": "b24e5817-9384-40aa-f232-a460c4006f2d",
        "id": "pcTeNclGEW9s"
      },
      "execution_count": null,
      "outputs": [
        {
          "output_type": "execute_result",
          "data": {
            "text/plain": [
              "<Axes: xlabel='availability_365', ylabel='price'>"
            ]
          },
          "metadata": {},
          "execution_count": 54
        },
        {
          "output_type": "display_data",
          "data": {
            "text/plain": [
              "<Figure size 640x480 with 1 Axes>"
            ],
            "image/png": "[encoded data removed]"
          },
          "metadata": {}
        }
      ]
    },
    {
      "cell_type": "code",
      "source": [
        "#Declaramos las variables dependientes e independientes para la regresión lineal\n",
        "Vars_Indep= PR_MEX[['availability_365', 'host_response_rate', 'number_of_reviews', 'accommodates']]\n",
        "Var_Dep= PR_MEX['price']"
      ],
      "metadata": {
        "id": "RpcuE6N2EW9t"
      },
      "execution_count": null,
      "outputs": []
    },
    {
      "cell_type": "code",
      "source": [
        "#Se define model como la función de regresión lineal\n",
        "from sklearn.linear_model import LinearRegression\n",
        "model= LinearRegression()"
      ],
      "metadata": {
        "id": "UhXxrX-mEW9t"
      },
      "execution_count": null,
      "outputs": []
    },
    {
      "cell_type": "code",
      "source": [
        "#Verificamos la función relacionada al modelo\n",
        "type(model)"
      ],
      "metadata": {
        "colab": {
          "base_uri": "https://localhost:8080/"
        },
        "outputId": "745b8993-32a0-4850-b168-a6593e75a8d9",
        "id": "krQe_DVoEW9t"
      },
      "execution_count": null,
      "outputs": [
        {
          "output_type": "execute_result",
          "data": {
            "text/plain": [
              "sklearn.linear_model._base.LinearRegression"
            ]
          },
          "metadata": {},
          "execution_count": 57
        }
      ]
    },
    {
      "cell_type": "code",
      "source": [
        "#Ajustamos el modelo con las variables antes declaradas\n",
        "model.fit(X=Vars_Indep, y=Var_Dep)"
      ],
      "metadata": {
        "colab": {
          "base_uri": "https://localhost:8080/",
          "height": 75
        },
        "outputId": "ba7d0abf-2cf9-48ca-8996-5bdbc4e91072",
        "id": "4k3hTzO7EW9t"
      },
      "execution_count": null,
      "outputs": [
        {
          "output_type": "execute_result",
          "data": {
            "text/plain": [
              "LinearRegression()"
            ],
            "text/html": [
              "<style>#sk-container-id-2 {color: black;background-color: white;}#sk-container-id-2 pre{padding: 0;}#sk-container-id-2 div.sk-toggleable {background-color: white;}#sk-container-id-2 label.sk-toggleable__label {cursor: pointer;display: block;width: 100%;margin-bottom: 0;padding: 0.3em;box-sizing: border-box;text-align: center;}#sk-container-id-2 label.sk-toggleable__label-arrow:before {content: \"▸\";float: left;margin-right: 0.25em;color: #696969;}#sk-container-id-2 label.sk-toggleable__label-arrow:hover:before {color: black;}#sk-container-id-2 div.sk-estimator:hover label.sk-toggleable__label-arrow:before {color: black;}#sk-container-id-2 div.sk-toggleable__content {max-height: 0;max-width: 0;overflow: hidden;text-align: left;background-color: #f0f8ff;}#sk-container-id-2 div.sk-toggleable__content pre {margin: 0.2em;color: black;border-radius: 0.25em;background-color: #f0f8ff;}#sk-container-id-2 input.sk-toggleable__control:checked~div.sk-toggleable__content {max-height: 200px;max-width: 100%;overflow: auto;}#sk-container-id-2 input.sk-toggleable__control:checked~label.sk-toggleable__label-arrow:before {content: \"▾\";}#sk-container-id-2 div.sk-estimator input.sk-toggleable__control:checked~label.sk-toggleable__label {background-color: #d4ebff;}#sk-container-id-2 div.sk-label input.sk-toggleable__control:checked~label.sk-toggleable__label {background-color: #d4ebff;}#sk-container-id-2 input.sk-hidden--visually {border: 0;clip: rect(1px 1px 1px 1px);clip: rect(1px, 1px, 1px, 1px);height: 1px;margin: -1px;overflow: hidden;padding: 0;position: absolute;width: 1px;}#sk-container-id-2 div.sk-estimator {font-family: monospace;background-color: #f0f8ff;border: 1px dotted black;border-radius: 0.25em;box-sizing: border-box;margin-bottom: 0.5em;}#sk-container-id-2 div.sk-estimator:hover {background-color: #d4ebff;}#sk-container-id-2 div.sk-parallel-item::after {content: \"\";width: 100%;border-bottom: 1px solid gray;flex-grow: 1;}#sk-container-id-2 div.sk-label:hover label.sk-toggleable__label {background-color: #d4ebff;}#sk-container-id-2 div.sk-serial::before {content: \"\";position: absolute;border-left: 1px solid gray;box-sizing: border-box;top: 0;bottom: 0;left: 50%;z-index: 0;}#sk-container-id-2 div.sk-serial {display: flex;flex-direction: column;align-items: center;background-color: white;padding-right: 0.2em;padding-left: 0.2em;position: relative;}#sk-container-id-2 div.sk-item {position: relative;z-index: 1;}#sk-container-id-2 div.sk-parallel {display: flex;align-items: stretch;justify-content: center;background-color: white;position: relative;}#sk-container-id-2 div.sk-item::before, #sk-container-id-2 div.sk-parallel-item::before {content: \"\";position: absolute;border-left: 1px solid gray;box-sizing: border-box;top: 0;bottom: 0;left: 50%;z-index: -1;}#sk-container-id-2 div.sk-parallel-item {display: flex;flex-direction: column;z-index: 1;position: relative;background-color: white;}#sk-container-id-2 div.sk-parallel-item:first-child::after {align-self: flex-end;width: 50%;}#sk-container-id-2 div.sk-parallel-item:last-child::after {align-self: flex-start;width: 50%;}#sk-container-id-2 div.sk-parallel-item:only-child::after {width: 0;}#sk-container-id-2 div.sk-dashed-wrapped {border: 1px dashed gray;margin: 0 0.4em 0.5em 0.4em;box-sizing: border-box;padding-bottom: 0.4em;background-color: white;}#sk-container-id-2 div.sk-label label {font-family: monospace;font-weight: bold;display: inline-block;line-height: 1.2em;}#sk-container-id-2 div.sk-label-container {text-align: center;}#sk-container-id-2 div.sk-container {/* jupyter's `normalize.less` sets `[hidden] { display: none; }` but bootstrap.min.css set `[hidden] { display: none !important; }` so we also need the `!important` here to be able to override the default hidden behavior on the sphinx rendered scikit-learn.org. See: https://github.com/scikit-learn/scikit-learn/issues/21755 */display: inline-block !important;position: relative;}#sk-container-id-2 div.sk-text-repr-fallback {display: none;}</style><div id=\"sk-container-id-2\" class=\"sk-top-container\"><div class=\"sk-text-repr-fallback\"><pre>LinearRegression()</pre><b>In a Jupyter environment, please rerun this cell to show the HTML representation or trust the notebook. <br />On GitHub, the HTML representation is unable to render, please try loading this page with nbviewer.org.</b></div><div class=\"sk-container\" hidden><div class=\"sk-item\"><div class=\"sk-estimator sk-toggleable\"><input class=\"sk-toggleable__control sk-hidden--visually\" id=\"sk-estimator-id-2\" type=\"checkbox\" checked><label for=\"sk-estimator-id-2\" class=\"sk-toggleable__label sk-toggleable__label-arrow\">LinearRegression</label><div class=\"sk-toggleable__content\"><pre>LinearRegression()</pre></div></div></div></div></div>"
            ]
          },
          "metadata": {},
          "execution_count": 58
        }
      ]
    },
    {
      "cell_type": "code",
      "source": [
        "#Verificamos los coeficientes obtenidos para el modelo ajustado\n",
        "model.__dict__"
      ],
      "metadata": {
        "colab": {
          "base_uri": "https://localhost:8080/"
        },
        "outputId": "f39c6c35-300a-4bfc-acce-c374ea44ded7",
        "id": "Q1DO2uaCEW9u"
      },
      "execution_count": null,
      "outputs": [
        {
          "output_type": "execute_result",
          "data": {
            "text/plain": [
              "{'fit_intercept': True,\n",
              " 'copy_X': True,\n",
              " 'n_jobs': None,\n",
              " 'positive': False,\n",
              " 'feature_names_in_': array(['availability_365', 'host_response_rate', 'number_of_reviews',\n",
              "        'accommodates'], dtype=object),\n",
              " 'n_features_in_': 4,\n",
              " 'coef_': array([  -1.12035625, -992.59874793,    2.9144699 ,  298.15652833]),\n",
              " 'rank_': 4,\n",
              " 'singular_': array([11336.12466855,  5197.56885167,   125.98227007,    36.19597723]),\n",
              " 'intercept_': 1854.1566456613027}"
            ]
          },
          "metadata": {},
          "execution_count": 59
        }
      ]
    },
    {
      "cell_type": "markdown",
      "source": [
        "**Modelo matemático: y= -1.12035625 + -992.59874793 +  2.9144699 +  298.15652833 + 1854.1566456613027**"
      ],
      "metadata": {
        "id": "2RLgnLeDEW9u"
      }
    },
    {
      "cell_type": "code",
      "source": [
        "#Corroboramos cual es el coeficiente de Determinación de nuestro modelo\n",
        "coef_Deter2=model.score(X=Vars_Indep, y=Var_Dep)\n",
        "coef_Deter2"
      ],
      "metadata": {
        "colab": {
          "base_uri": "https://localhost:8080/"
        },
        "outputId": "0ccf51cb-a661-4b61-a732-a08b396a7755",
        "id": "vhEFZV9sEW9u"
      },
      "execution_count": null,
      "outputs": [
        {
          "output_type": "execute_result",
          "data": {
            "text/plain": [
              "0.0006088975110930539"
            ]
          },
          "metadata": {},
          "execution_count": 60
        }
      ]
    },
    {
      "cell_type": "code",
      "source": [
        "#Corroboramos cual es el coeficiente de Correlación de nuestro modelo\n",
        "coef_Correl2=np.sqrt(coef_Deter2)\n",
        "coef_Correl2"
      ],
      "metadata": {
        "colab": {
          "base_uri": "https://localhost:8080/"
        },
        "outputId": "1602023d-2025-4665-eaa9-5e35127d1d8a",
        "id": "sKlLt74pEW9u"
      },
      "execution_count": null,
      "outputs": [
        {
          "output_type": "execute_result",
          "data": {
            "text/plain": [
              "0.024675848741087993"
            ]
          },
          "metadata": {},
          "execution_count": 61
        }
      ]
    },
    {
      "cell_type": "code",
      "source": [
        "det.append(coef_Deter2)\n",
        "corr.append(np.sqrt(coef_Correl2))\n",
        "Ta_V.append(\"Private room / Price vs availability_365, host_response_rate, number_of_reviews, accommodates\")"
      ],
      "metadata": {
        "id": "dvWgXZFpEW9u"
      },
      "execution_count": null,
      "outputs": []
    },
    {
      "cell_type": "markdown",
      "source": [
        "### host_acceptance_rate vs number_of_reviews,review_scores_cleanliness,review_scores_communication"
      ],
      "metadata": {
        "id": "kdOj9BoHFfZQ"
      }
    },
    {
      "cell_type": "code",
      "source": [
        "from turtle import color\n",
        "\n",
        "sns.scatterplot(x='number_of_reviews', y='host_acceptance_rate', color=\"red\", data=PR_MEX)\n",
        "sns.scatterplot(x='review_scores_cleanliness', y='host_acceptance_rate', color=\"blue\", data=PR_MEX)\n",
        "sns.scatterplot(x='review_scores_communication', y='host_acceptance_rate', color=\"green\", data=PR_MEX)"
      ],
      "metadata": {
        "colab": {
          "base_uri": "https://localhost:8080/",
          "height": 468
        },
        "outputId": "a3ec1ed2-a385-48ef-bb87-c1908e5f54ae",
        "id": "TiLoNJLiFfZR"
      },
      "execution_count": null,
      "outputs": [
        {
          "output_type": "execute_result",
          "data": {
            "text/plain": [
              "<Axes: xlabel='number_of_reviews', ylabel='host_acceptance_rate'>"
            ]
          },
          "metadata": {},
          "execution_count": 63
        },
        {
          "output_type": "display_data",
          "data": {
            "text/plain": [
              "<Figure size 640x480 with 1 Axes>"
            ],
            "image/png": "[encoded data removed]"
          },
          "metadata": {}
        }
      ]
    },
    {
      "cell_type": "code",
      "source": [
        "#Declaramos las variables dependientes e independientes para la regresión lineal\n",
        "Vars_Indep= PR_MEX[['number_of_reviews','review_scores_cleanliness','review_scores_communication']]\n",
        "Var_Dep= PR_MEX['host_acceptance_rate']"
      ],
      "metadata": {
        "id": "sI1oW4uVFfZS"
      },
      "execution_count": null,
      "outputs": []
    },
    {
      "cell_type": "code",
      "source": [
        "#Se define model como la función de regresión lineal\n",
        "from sklearn.linear_model import LinearRegression\n",
        "model= LinearRegression()"
      ],
      "metadata": {
        "id": "8tjPLeemFfZS"
      },
      "execution_count": null,
      "outputs": []
    },
    {
      "cell_type": "code",
      "source": [
        "#Verificamos la función relacionada al modelo\n",
        "type(model)"
      ],
      "metadata": {
        "colab": {
          "base_uri": "https://localhost:8080/"
        },
        "outputId": "a5ebfdae-e593-49ed-b038-a568657174e1",
        "id": "WbccnaBhFfZS"
      },
      "execution_count": null,
      "outputs": [
        {
          "output_type": "execute_result",
          "data": {
            "text/plain": [
              "sklearn.linear_model._base.LinearRegression"
            ]
          },
          "metadata": {},
          "execution_count": 66
        }
      ]
    },
    {
      "cell_type": "code",
      "source": [
        "#Ajustamos el modelo con las variables antes declaradas\n",
        "model.fit(X=Vars_Indep, y=Var_Dep)"
      ],
      "metadata": {
        "colab": {
          "base_uri": "https://localhost:8080/",
          "height": 75
        },
        "outputId": "874daecb-3e35-49a0-f99c-a6290df13145",
        "id": "M3IQpkADFfZS"
      },
      "execution_count": null,
      "outputs": [
        {
          "output_type": "execute_result",
          "data": {
            "text/plain": [
              "LinearRegression()"
            ],
            "text/html": [
              "<style>#sk-container-id-3 {color: black;background-color: white;}#sk-container-id-3 pre{padding: 0;}#sk-container-id-3 div.sk-toggleable {background-color: white;}#sk-container-id-3 label.sk-toggleable__label {cursor: pointer;display: block;width: 100%;margin-bottom: 0;padding: 0.3em;box-sizing: border-box;text-align: center;}#sk-container-id-3 label.sk-toggleable__label-arrow:before {content: \"▸\";float: left;margin-right: 0.25em;color: #696969;}#sk-container-id-3 label.sk-toggleable__label-arrow:hover:before {color: black;}#sk-container-id-3 div.sk-estimator:hover label.sk-toggleable__label-arrow:before {color: black;}#sk-container-id-3 div.sk-toggleable__content {max-height: 0;max-width: 0;overflow: hidden;text-align: left;background-color: #f0f8ff;}#sk-container-id-3 div.sk-toggleable__content pre {margin: 0.2em;color: black;border-radius: 0.25em;background-color: #f0f8ff;}#sk-container-id-3 input.sk-toggleable__control:checked~div.sk-toggleable__content {max-height: 200px;max-width: 100%;overflow: auto;}#sk-container-id-3 input.sk-toggleable__control:checked~label.sk-toggleable__label-arrow:before {content: \"▾\";}#sk-container-id-3 div.sk-estimator input.sk-toggleable__control:checked~label.sk-toggleable__label {background-color: #d4ebff;}#sk-container-id-3 div.sk-label input.sk-toggleable__control:checked~label.sk-toggleable__label {background-color: #d4ebff;}#sk-container-id-3 input.sk-hidden--visually {border: 0;clip: rect(1px 1px 1px 1px);clip: rect(1px, 1px, 1px, 1px);height: 1px;margin: -1px;overflow: hidden;padding: 0;position: absolute;width: 1px;}#sk-container-id-3 div.sk-estimator {font-family: monospace;background-color: #f0f8ff;border: 1px dotted black;border-radius: 0.25em;box-sizing: border-box;margin-bottom: 0.5em;}#sk-container-id-3 div.sk-estimator:hover {background-color: #d4ebff;}#sk-container-id-3 div.sk-parallel-item::after {content: \"\";width: 100%;border-bottom: 1px solid gray;flex-grow: 1;}#sk-container-id-3 div.sk-label:hover label.sk-toggleable__label {background-color: #d4ebff;}#sk-container-id-3 div.sk-serial::before {content: \"\";position: absolute;border-left: 1px solid gray;box-sizing: border-box;top: 0;bottom: 0;left: 50%;z-index: 0;}#sk-container-id-3 div.sk-serial {display: flex;flex-direction: column;align-items: center;background-color: white;padding-right: 0.2em;padding-left: 0.2em;position: relative;}#sk-container-id-3 div.sk-item {position: relative;z-index: 1;}#sk-container-id-3 div.sk-parallel {display: flex;align-items: stretch;justify-content: center;background-color: white;position: relative;}#sk-container-id-3 div.sk-item::before, #sk-container-id-3 div.sk-parallel-item::before {content: \"\";position: absolute;border-left: 1px solid gray;box-sizing: border-box;top: 0;bottom: 0;left: 50%;z-index: -1;}#sk-container-id-3 div.sk-parallel-item {display: flex;flex-direction: column;z-index: 1;position: relative;background-color: white;}#sk-container-id-3 div.sk-parallel-item:first-child::after {align-self: flex-end;width: 50%;}#sk-container-id-3 div.sk-parallel-item:last-child::after {align-self: flex-start;width: 50%;}#sk-container-id-3 div.sk-parallel-item:only-child::after {width: 0;}#sk-container-id-3 div.sk-dashed-wrapped {border: 1px dashed gray;margin: 0 0.4em 0.5em 0.4em;box-sizing: border-box;padding-bottom: 0.4em;background-color: white;}#sk-container-id-3 div.sk-label label {font-family: monospace;font-weight: bold;display: inline-block;line-height: 1.2em;}#sk-container-id-3 div.sk-label-container {text-align: center;}#sk-container-id-3 div.sk-container {/* jupyter's `normalize.less` sets `[hidden] { display: none; }` but bootstrap.min.css set `[hidden] { display: none !important; }` so we also need the `!important` here to be able to override the default hidden behavior on the sphinx rendered scikit-learn.org. See: https://github.com/scikit-learn/scikit-learn/issues/21755 */display: inline-block !important;position: relative;}#sk-container-id-3 div.sk-text-repr-fallback {display: none;}</style><div id=\"sk-container-id-3\" class=\"sk-top-container\"><div class=\"sk-text-repr-fallback\"><pre>LinearRegression()</pre><b>In a Jupyter environment, please rerun this cell to show the HTML representation or trust the notebook. <br />On GitHub, the HTML representation is unable to render, please try loading this page with nbviewer.org.</b></div><div class=\"sk-container\" hidden><div class=\"sk-item\"><div class=\"sk-estimator sk-toggleable\"><input class=\"sk-toggleable__control sk-hidden--visually\" id=\"sk-estimator-id-3\" type=\"checkbox\" checked><label for=\"sk-estimator-id-3\" class=\"sk-toggleable__label sk-toggleable__label-arrow\">LinearRegression</label><div class=\"sk-toggleable__content\"><pre>LinearRegression()</pre></div></div></div></div></div>"
            ]
          },
          "metadata": {},
          "execution_count": 67
        }
      ]
    },
    {
      "cell_type": "code",
      "source": [
        "#Verificamos los coeficientes obtenidos para el modelo ajustado\n",
        "model.__dict__"
      ],
      "metadata": {
        "colab": {
          "base_uri": "https://localhost:8080/"
        },
        "outputId": "67386b7b-edc5-48f4-c94e-5aedccf39cde",
        "id": "YUEVE5yTFfZS"
      },
      "execution_count": null,
      "outputs": [
        {
          "output_type": "execute_result",
          "data": {
            "text/plain": [
              "{'fit_intercept': True,\n",
              " 'copy_X': True,\n",
              " 'n_jobs': None,\n",
              " 'positive': False,\n",
              " 'feature_names_in_': array(['number_of_reviews', 'review_scores_cleanliness',\n",
              "        'review_scores_communication'], dtype=object),\n",
              " 'n_features_in_': 3,\n",
              " 'coef_': array([0.00045418, 0.04066145, 0.02385257]),\n",
              " 'rank_': 3,\n",
              " 'singular_': array([5204.06394971,  249.88934365,   21.11011122]),\n",
              " 'intercept_': 0.5230768774929482}"
            ]
          },
          "metadata": {},
          "execution_count": 68
        }
      ]
    },
    {
      "cell_type": "markdown",
      "source": [
        "**Modelo matemático: y= 0.00045418 + 0.04066145 + 0.02385257+ 0.5230768774929482**"
      ],
      "metadata": {
        "id": "on0QHO0BFfZS"
      }
    },
    {
      "cell_type": "code",
      "source": [
        "#Corroboramos cual es el coeficiente de Determinación de nuestro modelo\n",
        "coef_Deter3=model.score(X=Vars_Indep, y=Var_Dep)\n",
        "coef_Deter3"
      ],
      "metadata": {
        "colab": {
          "base_uri": "https://localhost:8080/"
        },
        "outputId": "04e92ad4-85c9-41aa-8300-e42544ccf129",
        "id": "vPdGnUs1FfZS"
      },
      "execution_count": null,
      "outputs": [
        {
          "output_type": "execute_result",
          "data": {
            "text/plain": [
              "0.14298700551364263"
            ]
          },
          "metadata": {},
          "execution_count": 70
        }
      ]
    },
    {
      "cell_type": "code",
      "source": [
        "#Corroboramos cual es el coeficiente de Correlación de nuestro modelo\n",
        "coef_Correl3=np.sqrt(coef_Deter3)\n",
        "coef_Correl3"
      ],
      "metadata": {
        "colab": {
          "base_uri": "https://localhost:8080/"
        },
        "outputId": "620866da-4b3a-4051-d91c-41c11deee1e5",
        "id": "5NT4GCyYFfZT"
      },
      "execution_count": null,
      "outputs": [
        {
          "output_type": "execute_result",
          "data": {
            "text/plain": [
              "0.37813622613238557"
            ]
          },
          "metadata": {},
          "execution_count": 71
        }
      ]
    },
    {
      "cell_type": "code",
      "source": [
        "det.append(coef_Deter3)\n",
        "corr.append(np.sqrt(coef_Correl3))\n",
        "Ta_V.append(\"Private room / host_acceptance_rate vs number_of_reviews,review_scores_cleanliness,review_scores_communication\")"
      ],
      "metadata": {
        "id": "XfcPJaFWFfZT"
      },
      "execution_count": null,
      "outputs": []
    },
    {
      "cell_type": "markdown",
      "source": [
        "## **Hotel room**"
      ],
      "metadata": {
        "id": "8EA-2cSIGqZo"
      }
    },
    {
      "cell_type": "code",
      "source": [
        "HR_MEX = MEX.loc[MEX['room_type'] == \"Hotel room\"]\n",
        "HR_MEX"
      ],
      "metadata": {
        "colab": {
          "base_uri": "https://localhost:8080/",
          "height": 1000
        },
        "outputId": "a91bcd66-cb2f-4117-8cda-304774faa5a0",
        "id": "1grzEVFWG9II"
      },
      "execution_count": null,
      "outputs": [
        {
          "output_type": "execute_result",
          "data": {
            "text/plain": [
              "       Unnamed: 0        id                            listing_url  \\\n",
              "14           14.0    737328    https://www.airbnb.com/rooms/737328   \n",
              "53           53.0    865012    https://www.airbnb.com/rooms/865012   \n",
              "55           55.0    868843    https://www.airbnb.com/rooms/868843   \n",
              "62           62.0    869063    https://www.airbnb.com/rooms/869063   \n",
              "66           66.0    281134    https://www.airbnb.com/rooms/281134   \n",
              "...           ...       ...                                    ...   \n",
              "9496       9495.0  43205383  https://www.airbnb.com/rooms/43205383   \n",
              "9538       9537.0  43247503  https://www.airbnb.com/rooms/43247503   \n",
              "9540       9539.0  43247525  https://www.airbnb.com/rooms/43247525   \n",
              "9545       9544.0  43247567  https://www.airbnb.com/rooms/43247567   \n",
              "11363     11362.0  47845863  https://www.airbnb.com/rooms/47845863   \n",
              "\n",
              "            scrape_id         last_scraped           source  \\\n",
              "14     20230300000000  2023-03-29 00:00:00      city scrape   \n",
              "53     20230300000000  2023-03-29 00:00:00      city scrape   \n",
              "55     20230300000000  2023-03-30 00:00:00      city scrape   \n",
              "62     20230300000000  2023-03-30 00:00:00      city scrape   \n",
              "66     20230300000000  2023-03-30 00:00:00      city scrape   \n",
              "...               ...                  ...              ...   \n",
              "9496   20230300000000  2023-03-30 00:00:00      city scrape   \n",
              "9538   20230300000000  2023-03-30 00:00:00      city scrape   \n",
              "9540   20230300000000  2023-03-30 00:00:00  previous scrape   \n",
              "9545   20230300000000  2023-03-30 00:00:00      city scrape   \n",
              "11363  20230300000000  2023-03-30 00:00:00      city scrape   \n",
              "\n",
              "                                                    name  \\\n",
              "14                     Business Suite BEIGE near Reforma   \n",
              "53                   Business Suite RED near Reforma Av.   \n",
              "55                    Business Suite PURPLE near Reforma   \n",
              "62                     Business Suite BLACK near Reforma   \n",
              "66                    COOL PENT HOUSE APARTMENT @CONDESA   \n",
              "...                                                  ...   \n",
              "9496                           Emporio Ciudad de M√©xico   \n",
              "9538                                  FlowSuites Polanco   \n",
              "9540   Krystal Grand Suites Insurgentes Ciudad De M√©...   \n",
              "9545                                           CHAYA B&B   \n",
              "11363         10 camas chicas terr ¬∑ Cama en Dormitorio   \n",
              "\n",
              "                                             description  \\\n",
              "14     <b>The space</b><br />On your business or leis...   \n",
              "53     <b>The space</b><br />Beautiful business suite...   \n",
              "55     <b>The space</b><br />Beautiful business suite...   \n",
              "62     Beautiful business suite facing our indoor pat...   \n",
              "66     Amazing Pent House apartment in the heart fo C...   \n",
              "...                                                  ...   \n",
              "9496                                                   0   \n",
              "9538                                                   0   \n",
              "9540                                                   0   \n",
              "9545                                                   0   \n",
              "11363  <b>The space</b><br />Un hostal que cuenta con...   \n",
              "\n",
              "                                   neighborhood_overview  \\\n",
              "14                                                     0   \n",
              "53                                                     0   \n",
              "55                                                     0   \n",
              "62     We are located in the most developed area of M...   \n",
              "66                                                     0   \n",
              "...                                                  ...   \n",
              "9496                                                   0   \n",
              "9538                                                   0   \n",
              "9540                                                   0   \n",
              "9545                                                   0   \n",
              "11363                                                  0   \n",
              "\n",
              "                                             picture_url  ...  \\\n",
              "14     https://a0.muscache.com/pictures/10105792/ffaf...  ...   \n",
              "53     https://a0.muscache.com/pictures/12416374/df57...  ...   \n",
              "55     https://a0.muscache.com/pictures/12479457/a401...  ...   \n",
              "62     https://a0.muscache.com/pictures/12482950/80ec...  ...   \n",
              "66     https://a0.muscache.com/pictures/5754595/e5ec9...  ...   \n",
              "...                                                  ...  ...   \n",
              "9496   https://a0.muscache.com/pictures/6c22e4d1-2294...  ...   \n",
              "9538   https://a0.muscache.com/pictures/3a86f189-ea18...  ...   \n",
              "9540   https://a0.muscache.com/pictures/97db0266-3607...  ...   \n",
              "9545   https://a0.muscache.com/pictures/20760914-ba9e...  ...   \n",
              "11363  https://a0.muscache.com/pictures/a64a6138-bcd3...  ...   \n",
              "\n",
              "      review_scores_communication review_scores_location review_scores_value  \\\n",
              "14                            5.0                   4.83                4.78   \n",
              "53                            5.0                   4.97                4.97   \n",
              "55                            5.0                   5.00                4.90   \n",
              "62                            5.0                   4.95                4.95   \n",
              "66                            5.0                   5.00                4.86   \n",
              "...                           ...                    ...                 ...   \n",
              "9496                          5.0                   5.00                5.00   \n",
              "9538                          0.0                   0.00                0.00   \n",
              "9540                          0.0                   0.00                0.00   \n",
              "9545                          0.0                   0.00                0.00   \n",
              "11363                         0.0                   0.00                0.00   \n",
              "\n",
              "      license instant_bookable calculated_host_listings_count  \\\n",
              "14        0.0                t                           11.0   \n",
              "53        0.0                t                           11.0   \n",
              "55        0.0                t                           11.0   \n",
              "62        0.0                t                           11.0   \n",
              "66        0.0                t                           12.0   \n",
              "...       ...              ...                            ...   \n",
              "9496      0.0                f                            2.0   \n",
              "9538      0.0                f                            1.0   \n",
              "9540      0.0                f                            1.0   \n",
              "9545      0.0                f                            1.0   \n",
              "11363     0.0                t                           21.0   \n",
              "\n",
              "      calculated_host_listings_count_entire_homes  \\\n",
              "14                                            7.0   \n",
              "53                                            7.0   \n",
              "55                                            7.0   \n",
              "62                                            7.0   \n",
              "66                                            3.0   \n",
              "...                                           ...   \n",
              "9496                                          0.0   \n",
              "9538                                          0.0   \n",
              "9540                                          0.0   \n",
              "9545                                          0.0   \n",
              "11363                                         4.0   \n",
              "\n",
              "      calculated_host_listings_count_private_rooms  \\\n",
              "14                                             0.0   \n",
              "53                                             0.0   \n",
              "55                                             0.0   \n",
              "62                                             0.0   \n",
              "66                                             2.0   \n",
              "...                                            ...   \n",
              "9496                                           1.0   \n",
              "9538                                           0.0   \n",
              "9540                                           0.0   \n",
              "9545                                           0.0   \n",
              "11363                                          2.0   \n",
              "\n",
              "      calculated_host_listings_count_shared_rooms reviews_per_month  \n",
              "14                                            0.0              0.18  \n",
              "53                                            0.0              0.25  \n",
              "55                                            0.0              0.46  \n",
              "62                                            0.0              0.25  \n",
              "66                                            0.0              0.07  \n",
              "...                                           ...               ...  \n",
              "9496                                          0.0              0.12  \n",
              "9538                                          0.0              0.00  \n",
              "9540                                          0.0              0.00  \n",
              "9545                                          0.0              0.00  \n",
              "11363                                         4.0              0.00  \n",
              "\n",
              "[127 rows x 73 columns]"
            ],
            "text/html": [
              "\n",
              "  <div id=\"df-85657756-d084-4ecb-8fdc-a6f7a17c42a3\">\n",
              "    <div class=\"colab-df-container\">\n",
              "      <div>\n",
              "<style scoped>\n",
              "    .dataframe tbody tr th:only-of-type {\n",
              "        vertical-align: middle;\n",
              "    }\n",
              "\n",
              "    .dataframe tbody tr th {\n",
              "        vertical-align: top;\n",
              "    }\n",
              "\n",
              "    .dataframe thead th {\n",
              "        text-align: right;\n",
              "    }\n",
              "</style>\n",
              "<table border=\"1\" class=\"dataframe\">\n",
              "  <thead>\n",
              "    <tr style=\"text-align: right;\">\n",
              "      <th></th>\n",
              "      <th>Unnamed: 0</th>\n",
              "      <th>id</th>\n",
              "      <th>listing_url</th>\n",
              "      <th>scrape_id</th>\n",
              "      <th>last_scraped</th>\n",
              "      <th>source</th>\n",
              "      <th>name</th>\n",
              "      <th>description</th>\n",
              "      <th>neighborhood_overview</th>\n",
              "      <th>picture_url</th>\n",
              "      <th>...</th>\n",
              "      <th>review_scores_communication</th>\n",
              "      <th>review_scores_location</th>\n",
              "      <th>review_scores_value</th>\n",
              "      <th>license</th>\n",
              "      <th>instant_bookable</th>\n",
              "      <th>calculated_host_listings_count</th>\n",
              "      <th>calculated_host_listings_count_entire_homes</th>\n",
              "      <th>calculated_host_listings_count_private_rooms</th>\n",
              "      <th>calculated_host_listings_count_shared_rooms</th>\n",
              "      <th>reviews_per_month</th>\n",
              "    </tr>\n",
              "  </thead>\n",
              "  <tbody>\n",
              "    <tr>\n",
              "      <th>14</th>\n",
              "      <td>14.0</td>\n",
              "      <td>737328</td>\n",
              "      <td>https://www.airbnb.com/rooms/737328</td>\n",
              "      <td>20230300000000</td>\n",
              "      <td>2023-03-29 00:00:00</td>\n",
              "      <td>city scrape</td>\n",
              "      <td>Business Suite BEIGE near Reforma</td>\n",
              "      <td>&lt;b&gt;The space&lt;/b&gt;&lt;br /&gt;On your business or leis...</td>\n",
              "      <td>0</td>\n",
              "      <td>https://a0.muscache.com/pictures/10105792/ffaf...</td>\n",
              "      <td>...</td>\n",
              "      <td>5.0</td>\n",
              "      <td>4.83</td>\n",
              "      <td>4.78</td>\n",
              "      <td>0.0</td>\n",
              "      <td>t</td>\n",
              "      <td>11.0</td>\n",
              "      <td>7.0</td>\n",
              "      <td>0.0</td>\n",
              "      <td>0.0</td>\n",
              "      <td>0.18</td>\n",
              "    </tr>\n",
              "    <tr>\n",
              "      <th>53</th>\n",
              "      <td>53.0</td>\n",
              "      <td>865012</td>\n",
              "      <td>https://www.airbnb.com/rooms/865012</td>\n",
              "      <td>20230300000000</td>\n",
              "      <td>2023-03-29 00:00:00</td>\n",
              "      <td>city scrape</td>\n",
              "      <td>Business Suite RED near Reforma Av.</td>\n",
              "      <td>&lt;b&gt;The space&lt;/b&gt;&lt;br /&gt;Beautiful business suite...</td>\n",
              "      <td>0</td>\n",
              "      <td>https://a0.muscache.com/pictures/12416374/df57...</td>\n",
              "      <td>...</td>\n",
              "      <td>5.0</td>\n",
              "      <td>4.97</td>\n",
              "      <td>4.97</td>\n",
              "      <td>0.0</td>\n",
              "      <td>t</td>\n",
              "      <td>11.0</td>\n",
              "      <td>7.0</td>\n",
              "      <td>0.0</td>\n",
              "      <td>0.0</td>\n",
              "      <td>0.25</td>\n",
              "    </tr>\n",
              "    <tr>\n",
              "      <th>55</th>\n",
              "      <td>55.0</td>\n",
              "      <td>868843</td>\n",
              "      <td>https://www.airbnb.com/rooms/868843</td>\n",
              "      <td>20230300000000</td>\n",
              "      <td>2023-03-30 00:00:00</td>\n",
              "      <td>city scrape</td>\n",
              "      <td>Business Suite PURPLE near Reforma</td>\n",
              "      <td>&lt;b&gt;The space&lt;/b&gt;&lt;br /&gt;Beautiful business suite...</td>\n",
              "      <td>0</td>\n",
              "      <td>https://a0.muscache.com/pictures/12479457/a401...</td>\n",
              "      <td>...</td>\n",
              "      <td>5.0</td>\n",
              "      <td>5.00</td>\n",
              "      <td>4.90</td>\n",
              "      <td>0.0</td>\n",
              "      <td>t</td>\n",
              "      <td>11.0</td>\n",
              "      <td>7.0</td>\n",
              "      <td>0.0</td>\n",
              "      <td>0.0</td>\n",
              "      <td>0.46</td>\n",
              "    </tr>\n",
              "    <tr>\n",
              "      <th>62</th>\n",
              "      <td>62.0</td>\n",
              "      <td>869063</td>\n",
              "      <td>https://www.airbnb.com/rooms/869063</td>\n",
              "      <td>20230300000000</td>\n",
              "      <td>2023-03-30 00:00:00</td>\n",
              "      <td>city scrape</td>\n",
              "      <td>Business Suite BLACK near Reforma</td>\n",
              "      <td>Beautiful business suite facing our indoor pat...</td>\n",
              "      <td>We are located in the most developed area of M...</td>\n",
              "      <td>https://a0.muscache.com/pictures/12482950/80ec...</td>\n",
              "      <td>...</td>\n",
              "      <td>5.0</td>\n",
              "      <td>4.95</td>\n",
              "      <td>4.95</td>\n",
              "      <td>0.0</td>\n",
              "      <td>t</td>\n",
              "      <td>11.0</td>\n",
              "      <td>7.0</td>\n",
              "      <td>0.0</td>\n",
              "      <td>0.0</td>\n",
              "      <td>0.25</td>\n",
              "    </tr>\n",
              "    <tr>\n",
              "      <th>66</th>\n",
              "      <td>66.0</td>\n",
              "      <td>281134</td>\n",
              "      <td>https://www.airbnb.com/rooms/281134</td>\n",
              "      <td>20230300000000</td>\n",
              "      <td>2023-03-30 00:00:00</td>\n",
              "      <td>city scrape</td>\n",
              "      <td>COOL PENT HOUSE APARTMENT @CONDESA</td>\n",
              "      <td>Amazing Pent House apartment in the heart fo C...</td>\n",
              "      <td>0</td>\n",
              "      <td>https://a0.muscache.com/pictures/5754595/e5ec9...</td>\n",
              "      <td>...</td>\n",
              "      <td>5.0</td>\n",
              "      <td>5.00</td>\n",
              "      <td>4.86</td>\n",
              "      <td>0.0</td>\n",
              "      <td>t</td>\n",
              "      <td>12.0</td>\n",
              "      <td>3.0</td>\n",
              "      <td>2.0</td>\n",
              "      <td>0.0</td>\n",
              "      <td>0.07</td>\n",
              "    </tr>\n",
              "    <tr>\n",
              "      <th>...</th>\n",
              "      <td>...</td>\n",
              "      <td>...</td>\n",
              "      <td>...</td>\n",
              "      <td>...</td>\n",
              "      <td>...</td>\n",
              "      <td>...</td>\n",
              "      <td>...</td>\n",
              "      <td>...</td>\n",
              "      <td>...</td>\n",
              "      <td>...</td>\n",
              "      <td>...</td>\n",
              "      <td>...</td>\n",
              "      <td>...</td>\n",
              "      <td>...</td>\n",
              "      <td>...</td>\n",
              "      <td>...</td>\n",
              "      <td>...</td>\n",
              "      <td>...</td>\n",
              "      <td>...</td>\n",
              "      <td>...</td>\n",
              "      <td>...</td>\n",
              "    </tr>\n",
              "    <tr>\n",
              "      <th>9496</th>\n",
              "      <td>9495.0</td>\n",
              "      <td>43205383</td>\n",
              "      <td>https://www.airbnb.com/rooms/43205383</td>\n",
              "      <td>20230300000000</td>\n",
              "      <td>2023-03-30 00:00:00</td>\n",
              "      <td>city scrape</td>\n",
              "      <td>Emporio Ciudad de M√©xico</td>\n",
              "      <td>0</td>\n",
              "      <td>0</td>\n",
              "      <td>https://a0.muscache.com/pictures/6c22e4d1-2294...</td>\n",
              "      <td>...</td>\n",
              "      <td>5.0</td>\n",
              "      <td>5.00</td>\n",
              "      <td>5.00</td>\n",
              "      <td>0.0</td>\n",
              "      <td>f</td>\n",
              "      <td>2.0</td>\n",
              "      <td>0.0</td>\n",
              "      <td>1.0</td>\n",
              "      <td>0.0</td>\n",
              "      <td>0.12</td>\n",
              "    </tr>\n",
              "    <tr>\n",
              "      <th>9538</th>\n",
              "      <td>9537.0</td>\n",
              "      <td>43247503</td>\n",
              "      <td>https://www.airbnb.com/rooms/43247503</td>\n",
              "      <td>20230300000000</td>\n",
              "      <td>2023-03-30 00:00:00</td>\n",
              "      <td>city scrape</td>\n",
              "      <td>FlowSuites Polanco</td>\n",
              "      <td>0</td>\n",
              "      <td>0</td>\n",
              "      <td>https://a0.muscache.com/pictures/3a86f189-ea18...</td>\n",
              "      <td>...</td>\n",
              "      <td>0.0</td>\n",
              "      <td>0.00</td>\n",
              "      <td>0.00</td>\n",
              "      <td>0.0</td>\n",
              "      <td>f</td>\n",
              "      <td>1.0</td>\n",
              "      <td>0.0</td>\n",
              "      <td>0.0</td>\n",
              "      <td>0.0</td>\n",
              "      <td>0.00</td>\n",
              "    </tr>\n",
              "    <tr>\n",
              "      <th>9540</th>\n",
              "      <td>9539.0</td>\n",
              "      <td>43247525</td>\n",
              "      <td>https://www.airbnb.com/rooms/43247525</td>\n",
              "      <td>20230300000000</td>\n",
              "      <td>2023-03-30 00:00:00</td>\n",
              "      <td>previous scrape</td>\n",
              "      <td>Krystal Grand Suites Insurgentes Ciudad De M√©...</td>\n",
              "      <td>0</td>\n",
              "      <td>0</td>\n",
              "      <td>https://a0.muscache.com/pictures/97db0266-3607...</td>\n",
              "      <td>...</td>\n",
              "      <td>0.0</td>\n",
              "      <td>0.00</td>\n",
              "      <td>0.00</td>\n",
              "      <td>0.0</td>\n",
              "      <td>f</td>\n",
              "      <td>1.0</td>\n",
              "      <td>0.0</td>\n",
              "      <td>0.0</td>\n",
              "      <td>0.0</td>\n",
              "      <td>0.00</td>\n",
              "    </tr>\n",
              "    <tr>\n",
              "      <th>9545</th>\n",
              "      <td>9544.0</td>\n",
              "      <td>43247567</td>\n",
              "      <td>https://www.airbnb.com/rooms/43247567</td>\n",
              "      <td>20230300000000</td>\n",
              "      <td>2023-03-30 00:00:00</td>\n",
              "      <td>city scrape</td>\n",
              "      <td>CHAYA B&amp;B</td>\n",
              "      <td>0</td>\n",
              "      <td>0</td>\n",
              "      <td>https://a0.muscache.com/pictures/20760914-ba9e...</td>\n",
              "      <td>...</td>\n",
              "      <td>0.0</td>\n",
              "      <td>0.00</td>\n",
              "      <td>0.00</td>\n",
              "      <td>0.0</td>\n",
              "      <td>f</td>\n",
              "      <td>1.0</td>\n",
              "      <td>0.0</td>\n",
              "      <td>0.0</td>\n",
              "      <td>0.0</td>\n",
              "      <td>0.00</td>\n",
              "    </tr>\n",
              "    <tr>\n",
              "      <th>11363</th>\n",
              "      <td>11362.0</td>\n",
              "      <td>47845863</td>\n",
              "      <td>https://www.airbnb.com/rooms/47845863</td>\n",
              "      <td>20230300000000</td>\n",
              "      <td>2023-03-30 00:00:00</td>\n",
              "      <td>city scrape</td>\n",
              "      <td>10 camas chicas terr ¬∑ Cama en Dormitorio</td>\n",
              "      <td>&lt;b&gt;The space&lt;/b&gt;&lt;br /&gt;Un hostal que cuenta con...</td>\n",
              "      <td>0</td>\n",
              "      <td>https://a0.muscache.com/pictures/a64a6138-bcd3...</td>\n",
              "      <td>...</td>\n",
              "      <td>0.0</td>\n",
              "      <td>0.00</td>\n",
              "      <td>0.00</td>\n",
              "      <td>0.0</td>\n",
              "      <td>t</td>\n",
              "      <td>21.0</td>\n",
              "      <td>4.0</td>\n",
              "      <td>2.0</td>\n",
              "      <td>4.0</td>\n",
              "      <td>0.00</td>\n",
              "    </tr>\n",
              "  </tbody>\n",
              "</table>\n",
              "<p>127 rows × 73 columns</p>\n",
              "</div>\n",
              "      <button class=\"colab-df-convert\" onclick=\"convertToInteractive('df-85657756-d084-4ecb-8fdc-a6f7a17c42a3')\"\n",
              "              title=\"Convert this dataframe to an interactive table.\"\n",
              "              style=\"display:none;\">\n",
              "        \n",
              "  <svg xmlns=\"http://www.w3.org/2000/svg\" height=\"24px\"viewBox=\"0 0 24 24\"\n",
              "       width=\"24px\">\n",
              "    <path d=\"M0 0h24v24H0V0z\" fill=\"none\"/>\n",
              "    <path d=\"M18.56 5.44l.94 2.06.94-2.06 2.06-.94-2.06-.94-.94-2.06-.94 2.06-2.06.94zm-11 1L8.5 8.5l.94-2.06 2.06-.94-2.06-.94L8.5 2.5l-.94 2.06-2.06.94zm10 10l.94 2.06.94-2.06 2.06-.94-2.06-.94-.94-2.06-.94 2.06-2.06.94z\"/><path d=\"M17.41 7.96l-1.37-1.37c-.4-.4-.92-.59-1.43-.59-.52 0-1.04.2-1.43.59L10.3 9.45l-7.72 7.72c-.78.78-.78 2.05 0 2.83L4 21.41c.39.39.9.59 1.41.59.51 0 1.02-.2 1.41-.59l7.78-7.78 2.81-2.81c.8-.78.8-2.07 0-2.86zM5.41 20L4 18.59l7.72-7.72 1.47 1.35L5.41 20z\"/>\n",
              "  </svg>\n",
              "      </button>\n",
              "      \n",
              "  <style>\n",
              "    .colab-df-container {\n",
              "      display:flex;\n",
              "      flex-wrap:wrap;\n",
              "      gap: 12px;\n",
              "    }\n",
              "\n",
              "    .colab-df-convert {\n",
              "      background-color: #E8F0FE;\n",
              "      border: none;\n",
              "      border-radius: 50%;\n",
              "      cursor: pointer;\n",
              "      display: none;\n",
              "      fill: #1967D2;\n",
              "      height: 32px;\n",
              "      padding: 0 0 0 0;\n",
              "      width: 32px;\n",
              "    }\n",
              "\n",
              "    .colab-df-convert:hover {\n",
              "      background-color: #E2EBFA;\n",
              "      box-shadow: 0px 1px 2px rgba(60, 64, 67, 0.3), 0px 1px 3px 1px rgba(60, 64, 67, 0.15);\n",
              "      fill: #174EA6;\n",
              "    }\n",
              "\n",
              "    [theme=dark] .colab-df-convert {\n",
              "      background-color: #3B4455;\n",
              "      fill: #D2E3FC;\n",
              "    }\n",
              "\n",
              "    [theme=dark] .colab-df-convert:hover {\n",
              "      background-color: #434B5C;\n",
              "      box-shadow: 0px 1px 3px 1px rgba(0, 0, 0, 0.15);\n",
              "      filter: drop-shadow(0px 1px 2px rgba(0, 0, 0, 0.3));\n",
              "      fill: #FFFFFF;\n",
              "    }\n",
              "  </style>\n",
              "\n",
              "      <script>\n",
              "        const buttonEl =\n",
              "          document.querySelector('#df-85657756-d084-4ecb-8fdc-a6f7a17c42a3 button.colab-df-convert');\n",
              "        buttonEl.style.display =\n",
              "          google.colab.kernel.accessAllowed ? 'block' : 'none';\n",
              "\n",
              "        async function convertToInteractive(key) {\n",
              "          const element = document.querySelector('#df-85657756-d084-4ecb-8fdc-a6f7a17c42a3');\n",
              "          const dataTable =\n",
              "            await google.colab.kernel.invokeFunction('convertToInteractive',\n",
              "                                                     [key], {});\n",
              "          if (!dataTable) return;\n",
              "\n",
              "          const docLinkHtml = 'Like what you see? Visit the ' +\n",
              "            '<a target=\"_blank\" href=https://colab.research.google.com/notebooks/data_table.ipynb>data table notebook</a>'\n",
              "            + ' to learn more about interactive tables.';\n",
              "          element.innerHTML = '';\n",
              "          dataTable['output_type'] = 'display_data';\n",
              "          await google.colab.output.renderOutput(dataTable, element);\n",
              "          const docLink = document.createElement('div');\n",
              "          docLink.innerHTML = docLinkHtml;\n",
              "          element.appendChild(docLink);\n",
              "        }\n",
              "      </script>\n",
              "    </div>\n",
              "  </div>\n",
              "  "
            ]
          },
          "metadata": {},
          "execution_count": 72
        }
      ]
    },
    {
      "cell_type": "markdown",
      "source": [
        "### host_acceptance_rate vs host_response_rate, Price, number_of_reviews , review_scores_rating"
      ],
      "metadata": {
        "id": "IPLTQOWFG9IJ"
      }
    },
    {
      "cell_type": "code",
      "source": [
        "from turtle import color\n",
        "\n",
        "\n",
        "sns.scatterplot(x='host_response_rate', y='host_acceptance_rate', color=\"blue\", data=HR_MEX)\n",
        "sns.scatterplot(x='price', y='host_acceptance_rate', color=\"red\", data=HR_MEX)\n",
        "sns.scatterplot(x='number_of_reviews', y='host_acceptance_rate', color=\"green\", data=HR_MEX)\n",
        "sns.scatterplot(x='review_scores_rating', y='host_acceptance_rate', color=\"yellow\", data=HR_MEX)"
      ],
      "metadata": {
        "colab": {
          "base_uri": "https://localhost:8080/",
          "height": 468
        },
        "outputId": "07dfb569-a6f3-4786-abb5-7e8a6a22ea17",
        "id": "90L7Wu_5G9IJ"
      },
      "execution_count": null,
      "outputs": [
        {
          "output_type": "execute_result",
          "data": {
            "text/plain": [
              "<Axes: xlabel='host_response_rate', ylabel='host_acceptance_rate'>"
            ]
          },
          "metadata": {},
          "execution_count": 73
        },
        {
          "output_type": "display_data",
          "data": {
            "text/plain": [
              "<Figure size 640x480 with 1 Axes>"
            ],
            "image/png": "[encoded data removed]"
          },
          "metadata": {}
        }
      ]
    },
    {
      "cell_type": "code",
      "source": [
        "#Declaramos las variables dependientes e independientes para la regresión lineal\n",
        "Vars_Indep= HR_MEX[['host_response_rate', 'price', 'number_of_reviews' , 'review_scores_rating']]\n",
        "Var_Dep= HR_MEX['host_acceptance_rate']"
      ],
      "metadata": {
        "id": "Kc5ocPajG9IJ"
      },
      "execution_count": null,
      "outputs": []
    },
    {
      "cell_type": "code",
      "source": [
        "#Se define model como la función de regresión lineal\n",
        "from sklearn.linear_model import LinearRegression\n",
        "model= LinearRegression()"
      ],
      "metadata": {
        "id": "BwSVswt1G9IK"
      },
      "execution_count": null,
      "outputs": []
    },
    {
      "cell_type": "code",
      "source": [
        "#Verificamos la función relacionada al modelo\n",
        "type(model)"
      ],
      "metadata": {
        "colab": {
          "base_uri": "https://localhost:8080/"
        },
        "outputId": "d7586a2c-d2ff-44ec-e9df-977deb65a3d6",
        "id": "-flI0I8rG9IK"
      },
      "execution_count": null,
      "outputs": [
        {
          "output_type": "execute_result",
          "data": {
            "text/plain": [
              "sklearn.linear_model._base.LinearRegression"
            ]
          },
          "metadata": {},
          "execution_count": 76
        }
      ]
    },
    {
      "cell_type": "code",
      "source": [
        "#Ajustamos el modelo con las variables antes declaradas\n",
        "model.fit(X=Vars_Indep, y=Var_Dep)"
      ],
      "metadata": {
        "colab": {
          "base_uri": "https://localhost:8080/",
          "height": 75
        },
        "outputId": "ed07f1ef-cd7c-4cfa-b674-d86c5f824ec8",
        "id": "LwhB0A1GG9IK"
      },
      "execution_count": null,
      "outputs": [
        {
          "output_type": "execute_result",
          "data": {
            "text/plain": [
              "LinearRegression()"
            ],
            "text/html": [
              "<style>#sk-container-id-4 {color: black;background-color: white;}#sk-container-id-4 pre{padding: 0;}#sk-container-id-4 div.sk-toggleable {background-color: white;}#sk-container-id-4 label.sk-toggleable__label {cursor: pointer;display: block;width: 100%;margin-bottom: 0;padding: 0.3em;box-sizing: border-box;text-align: center;}#sk-container-id-4 label.sk-toggleable__label-arrow:before {content: \"▸\";float: left;margin-right: 0.25em;color: #696969;}#sk-container-id-4 label.sk-toggleable__label-arrow:hover:before {color: black;}#sk-container-id-4 div.sk-estimator:hover label.sk-toggleable__label-arrow:before {color: black;}#sk-container-id-4 div.sk-toggleable__content {max-height: 0;max-width: 0;overflow: hidden;text-align: left;background-color: #f0f8ff;}#sk-container-id-4 div.sk-toggleable__content pre {margin: 0.2em;color: black;border-radius: 0.25em;background-color: #f0f8ff;}#sk-container-id-4 input.sk-toggleable__control:checked~div.sk-toggleable__content {max-height: 200px;max-width: 100%;overflow: auto;}#sk-container-id-4 input.sk-toggleable__control:checked~label.sk-toggleable__label-arrow:before {content: \"▾\";}#sk-container-id-4 div.sk-estimator input.sk-toggleable__control:checked~label.sk-toggleable__label {background-color: #d4ebff;}#sk-container-id-4 div.sk-label input.sk-toggleable__control:checked~label.sk-toggleable__label {background-color: #d4ebff;}#sk-container-id-4 input.sk-hidden--visually {border: 0;clip: rect(1px 1px 1px 1px);clip: rect(1px, 1px, 1px, 1px);height: 1px;margin: -1px;overflow: hidden;padding: 0;position: absolute;width: 1px;}#sk-container-id-4 div.sk-estimator {font-family: monospace;background-color: #f0f8ff;border: 1px dotted black;border-radius: 0.25em;box-sizing: border-box;margin-bottom: 0.5em;}#sk-container-id-4 div.sk-estimator:hover {background-color: #d4ebff;}#sk-container-id-4 div.sk-parallel-item::after {content: \"\";width: 100%;border-bottom: 1px solid gray;flex-grow: 1;}#sk-container-id-4 div.sk-label:hover label.sk-toggleable__label {background-color: #d4ebff;}#sk-container-id-4 div.sk-serial::before {content: \"\";position: absolute;border-left: 1px solid gray;box-sizing: border-box;top: 0;bottom: 0;left: 50%;z-index: 0;}#sk-container-id-4 div.sk-serial {display: flex;flex-direction: column;align-items: center;background-color: white;padding-right: 0.2em;padding-left: 0.2em;position: relative;}#sk-container-id-4 div.sk-item {position: relative;z-index: 1;}#sk-container-id-4 div.sk-parallel {display: flex;align-items: stretch;justify-content: center;background-color: white;position: relative;}#sk-container-id-4 div.sk-item::before, #sk-container-id-4 div.sk-parallel-item::before {content: \"\";position: absolute;border-left: 1px solid gray;box-sizing: border-box;top: 0;bottom: 0;left: 50%;z-index: -1;}#sk-container-id-4 div.sk-parallel-item {display: flex;flex-direction: column;z-index: 1;position: relative;background-color: white;}#sk-container-id-4 div.sk-parallel-item:first-child::after {align-self: flex-end;width: 50%;}#sk-container-id-4 div.sk-parallel-item:last-child::after {align-self: flex-start;width: 50%;}#sk-container-id-4 div.sk-parallel-item:only-child::after {width: 0;}#sk-container-id-4 div.sk-dashed-wrapped {border: 1px dashed gray;margin: 0 0.4em 0.5em 0.4em;box-sizing: border-box;padding-bottom: 0.4em;background-color: white;}#sk-container-id-4 div.sk-label label {font-family: monospace;font-weight: bold;display: inline-block;line-height: 1.2em;}#sk-container-id-4 div.sk-label-container {text-align: center;}#sk-container-id-4 div.sk-container {/* jupyter's `normalize.less` sets `[hidden] { display: none; }` but bootstrap.min.css set `[hidden] { display: none !important; }` so we also need the `!important` here to be able to override the default hidden behavior on the sphinx rendered scikit-learn.org. See: https://github.com/scikit-learn/scikit-learn/issues/21755 */display: inline-block !important;position: relative;}#sk-container-id-4 div.sk-text-repr-fallback {display: none;}</style><div id=\"sk-container-id-4\" class=\"sk-top-container\"><div class=\"sk-text-repr-fallback\"><pre>LinearRegression()</pre><b>In a Jupyter environment, please rerun this cell to show the HTML representation or trust the notebook. <br />On GitHub, the HTML representation is unable to render, please try loading this page with nbviewer.org.</b></div><div class=\"sk-container\" hidden><div class=\"sk-item\"><div class=\"sk-estimator sk-toggleable\"><input class=\"sk-toggleable__control sk-hidden--visually\" id=\"sk-estimator-id-4\" type=\"checkbox\" checked><label for=\"sk-estimator-id-4\" class=\"sk-toggleable__label sk-toggleable__label-arrow\">LinearRegression</label><div class=\"sk-toggleable__content\"><pre>LinearRegression()</pre></div></div></div></div></div>"
            ]
          },
          "metadata": {},
          "execution_count": 77
        }
      ]
    },
    {
      "cell_type": "code",
      "source": [
        "#Verificamos los coeficientes obtenidos para el modelo ajustado\n",
        "model.__dict__"
      ],
      "metadata": {
        "colab": {
          "base_uri": "https://localhost:8080/"
        },
        "outputId": "ad599cad-cb6f-4e68-f1ea-809eaff75014",
        "id": "Rs1A3IORG9IK"
      },
      "execution_count": null,
      "outputs": [
        {
          "output_type": "execute_result",
          "data": {
            "text/plain": [
              "{'fit_intercept': True,\n",
              " 'copy_X': True,\n",
              " 'n_jobs': None,\n",
              " 'positive': False,\n",
              " 'feature_names_in_': array(['host_response_rate', 'price', 'number_of_reviews',\n",
              "        'review_scores_rating'], dtype=object),\n",
              " 'n_features_in_': 4,\n",
              " 'coef_': array([ 6.23039686e-01, -6.74648679e-06,  4.57668496e-04,  2.97364250e-03]),\n",
              " 'rank_': 4,\n",
              " 'singular_': array([6.55310909e+04, 4.45747209e+02, 2.06843261e+01, 2.82084814e+00]),\n",
              " 'intercept_': 0.3132790021024703}"
            ]
          },
          "metadata": {},
          "execution_count": 78
        }
      ]
    },
    {
      "cell_type": "markdown",
      "source": [
        "**Modelo matemático: y= 6.23039686e-01+ -6.74648679e-06+  4.57668496e-04+  2.97364250e-03 + 0.3132790021024703**"
      ],
      "metadata": {
        "id": "1iWj5ZZvG9IK"
      }
    },
    {
      "cell_type": "code",
      "source": [
        "#Corroboramos cual es el coeficiente de Determinación de nuestro modelo\n",
        "coef_Deter4=model.score(X=Vars_Indep, y=Var_Dep)\n",
        "coef_Deter4"
      ],
      "metadata": {
        "colab": {
          "base_uri": "https://localhost:8080/"
        },
        "outputId": "a248e37b-24c8-4e69-ab5e-c409a406f3d3",
        "id": "GG8hzFFbG9IK"
      },
      "execution_count": null,
      "outputs": [
        {
          "output_type": "execute_result",
          "data": {
            "text/plain": [
              "0.6127875449408355"
            ]
          },
          "metadata": {},
          "execution_count": 79
        }
      ]
    },
    {
      "cell_type": "code",
      "source": [
        "#Corroboramos cual es el coeficiente de Correlación de nuestro modelo\n",
        "coef_Correl4=np.sqrt(coef_Deter4)\n",
        "coef_Correl4"
      ],
      "metadata": {
        "colab": {
          "base_uri": "https://localhost:8080/"
        },
        "outputId": "7ad8b04a-db00-4b06-e3ef-2399a7a5ffe7",
        "id": "IL1o1hX5G9IK"
      },
      "execution_count": null,
      "outputs": [
        {
          "output_type": "execute_result",
          "data": {
            "text/plain": [
              "0.7828074762933959"
            ]
          },
          "metadata": {},
          "execution_count": 80
        }
      ]
    },
    {
      "cell_type": "code",
      "source": [
        "det.append(coef_Deter4)\n",
        "corr.append(np.sqrt(coef_Correl4))\n",
        "Ta_V.append(\"Hotel room / host_acceptance_rate vs host_response_rate, Price, number_of_reviews , review_scores_rating\")"
      ],
      "metadata": {
        "id": "576KtxEMG9IK"
      },
      "execution_count": null,
      "outputs": []
    },
    {
      "cell_type": "markdown",
      "source": [
        "### Price vs availability_365, host_response_rate, number_of_reviews, accommodates"
      ],
      "metadata": {
        "id": "_uyFmyvxG9IL"
      }
    },
    {
      "cell_type": "code",
      "source": [
        "from turtle import color\n",
        "\n",
        "sns.scatterplot(x='availability_365', y='price', color=\"red\", data=HR_MEX)\n",
        "sns.scatterplot(x='host_response_rate', y='price', color=\"blue\", data=HR_MEX)\n",
        "sns.scatterplot(x='number_of_reviews', y='price', color=\"green\", data=HR_MEX)\n",
        "sns.scatterplot(x='accommodates', y='price', color=\"yellow\", data=HR_MEX)"
      ],
      "metadata": {
        "colab": {
          "base_uri": "https://localhost:8080/",
          "height": 468
        },
        "outputId": "40fef060-2ef0-475b-ad46-5fb915bdfd73",
        "id": "EPhoHcUlG9IL"
      },
      "execution_count": null,
      "outputs": [
        {
          "output_type": "execute_result",
          "data": {
            "text/plain": [
              "<Axes: xlabel='availability_365', ylabel='price'>"
            ]
          },
          "metadata": {},
          "execution_count": 82
        },
        {
          "output_type": "display_data",
          "data": {
            "text/plain": [
              "<Figure size 640x480 with 1 Axes>"
            ],
            "image/png": "[encoded data removed]"
          },
          "metadata": {}
        }
      ]
    },
    {
      "cell_type": "code",
      "source": [
        "#Declaramos las variables dependientes e independientes para la regresión lineal\n",
        "Vars_Indep= HR_MEX[['availability_365', 'host_response_rate', 'number_of_reviews', 'accommodates']]\n",
        "Var_Dep= HR_MEX['price']"
      ],
      "metadata": {
        "id": "tpqUSoBIG9IL"
      },
      "execution_count": null,
      "outputs": []
    },
    {
      "cell_type": "code",
      "source": [
        "#Se define model como la función de regresión lineal\n",
        "from sklearn.linear_model import LinearRegression\n",
        "model= LinearRegression()"
      ],
      "metadata": {
        "id": "Mx1Y7brNG9IL"
      },
      "execution_count": null,
      "outputs": []
    },
    {
      "cell_type": "code",
      "source": [
        "#Verificamos la función relacionada al modelo\n",
        "type(model)"
      ],
      "metadata": {
        "colab": {
          "base_uri": "https://localhost:8080/"
        },
        "outputId": "7f5ea2d4-c3b2-478e-d7da-a9cb42950346",
        "id": "RDUWxJu3G9IL"
      },
      "execution_count": null,
      "outputs": [
        {
          "output_type": "execute_result",
          "data": {
            "text/plain": [
              "sklearn.linear_model._base.LinearRegression"
            ]
          },
          "metadata": {},
          "execution_count": 85
        }
      ]
    },
    {
      "cell_type": "code",
      "source": [
        "#Ajustamos el modelo con las variables antes declaradas\n",
        "model.fit(X=Vars_Indep, y=Var_Dep)"
      ],
      "metadata": {
        "colab": {
          "base_uri": "https://localhost:8080/",
          "height": 75
        },
        "outputId": "77060b56-0799-45c8-bd01-8c321f370d60",
        "id": "1a26EMXhG9IL"
      },
      "execution_count": null,
      "outputs": [
        {
          "output_type": "execute_result",
          "data": {
            "text/plain": [
              "LinearRegression()"
            ],
            "text/html": [
              "<style>#sk-container-id-5 {color: black;background-color: white;}#sk-container-id-5 pre{padding: 0;}#sk-container-id-5 div.sk-toggleable {background-color: white;}#sk-container-id-5 label.sk-toggleable__label {cursor: pointer;display: block;width: 100%;margin-bottom: 0;padding: 0.3em;box-sizing: border-box;text-align: center;}#sk-container-id-5 label.sk-toggleable__label-arrow:before {content: \"▸\";float: left;margin-right: 0.25em;color: #696969;}#sk-container-id-5 label.sk-toggleable__label-arrow:hover:before {color: black;}#sk-container-id-5 div.sk-estimator:hover label.sk-toggleable__label-arrow:before {color: black;}#sk-container-id-5 div.sk-toggleable__content {max-height: 0;max-width: 0;overflow: hidden;text-align: left;background-color: #f0f8ff;}#sk-container-id-5 div.sk-toggleable__content pre {margin: 0.2em;color: black;border-radius: 0.25em;background-color: #f0f8ff;}#sk-container-id-5 input.sk-toggleable__control:checked~div.sk-toggleable__content {max-height: 200px;max-width: 100%;overflow: auto;}#sk-container-id-5 input.sk-toggleable__control:checked~label.sk-toggleable__label-arrow:before {content: \"▾\";}#sk-container-id-5 div.sk-estimator input.sk-toggleable__control:checked~label.sk-toggleable__label {background-color: #d4ebff;}#sk-container-id-5 div.sk-label input.sk-toggleable__control:checked~label.sk-toggleable__label {background-color: #d4ebff;}#sk-container-id-5 input.sk-hidden--visually {border: 0;clip: rect(1px 1px 1px 1px);clip: rect(1px, 1px, 1px, 1px);height: 1px;margin: -1px;overflow: hidden;padding: 0;position: absolute;width: 1px;}#sk-container-id-5 div.sk-estimator {font-family: monospace;background-color: #f0f8ff;border: 1px dotted black;border-radius: 0.25em;box-sizing: border-box;margin-bottom: 0.5em;}#sk-container-id-5 div.sk-estimator:hover {background-color: #d4ebff;}#sk-container-id-5 div.sk-parallel-item::after {content: \"\";width: 100%;border-bottom: 1px solid gray;flex-grow: 1;}#sk-container-id-5 div.sk-label:hover label.sk-toggleable__label {background-color: #d4ebff;}#sk-container-id-5 div.sk-serial::before {content: \"\";position: absolute;border-left: 1px solid gray;box-sizing: border-box;top: 0;bottom: 0;left: 50%;z-index: 0;}#sk-container-id-5 div.sk-serial {display: flex;flex-direction: column;align-items: center;background-color: white;padding-right: 0.2em;padding-left: 0.2em;position: relative;}#sk-container-id-5 div.sk-item {position: relative;z-index: 1;}#sk-container-id-5 div.sk-parallel {display: flex;align-items: stretch;justify-content: center;background-color: white;position: relative;}#sk-container-id-5 div.sk-item::before, #sk-container-id-5 div.sk-parallel-item::before {content: \"\";position: absolute;border-left: 1px solid gray;box-sizing: border-box;top: 0;bottom: 0;left: 50%;z-index: -1;}#sk-container-id-5 div.sk-parallel-item {display: flex;flex-direction: column;z-index: 1;position: relative;background-color: white;}#sk-container-id-5 div.sk-parallel-item:first-child::after {align-self: flex-end;width: 50%;}#sk-container-id-5 div.sk-parallel-item:last-child::after {align-self: flex-start;width: 50%;}#sk-container-id-5 div.sk-parallel-item:only-child::after {width: 0;}#sk-container-id-5 div.sk-dashed-wrapped {border: 1px dashed gray;margin: 0 0.4em 0.5em 0.4em;box-sizing: border-box;padding-bottom: 0.4em;background-color: white;}#sk-container-id-5 div.sk-label label {font-family: monospace;font-weight: bold;display: inline-block;line-height: 1.2em;}#sk-container-id-5 div.sk-label-container {text-align: center;}#sk-container-id-5 div.sk-container {/* jupyter's `normalize.less` sets `[hidden] { display: none; }` but bootstrap.min.css set `[hidden] { display: none !important; }` so we also need the `!important` here to be able to override the default hidden behavior on the sphinx rendered scikit-learn.org. See: https://github.com/scikit-learn/scikit-learn/issues/21755 */display: inline-block !important;position: relative;}#sk-container-id-5 div.sk-text-repr-fallback {display: none;}</style><div id=\"sk-container-id-5\" class=\"sk-top-container\"><div class=\"sk-text-repr-fallback\"><pre>LinearRegression()</pre><b>In a Jupyter environment, please rerun this cell to show the HTML representation or trust the notebook. <br />On GitHub, the HTML representation is unable to render, please try loading this page with nbviewer.org.</b></div><div class=\"sk-container\" hidden><div class=\"sk-item\"><div class=\"sk-estimator sk-toggleable\"><input class=\"sk-toggleable__control sk-hidden--visually\" id=\"sk-estimator-id-5\" type=\"checkbox\" checked><label for=\"sk-estimator-id-5\" class=\"sk-toggleable__label sk-toggleable__label-arrow\">LinearRegression</label><div class=\"sk-toggleable__content\"><pre>LinearRegression()</pre></div></div></div></div></div>"
            ]
          },
          "metadata": {},
          "execution_count": 86
        }
      ]
    },
    {
      "cell_type": "code",
      "source": [
        "#Verificamos los coeficientes obtenidos para el modelo ajustado\n",
        "model.__dict__"
      ],
      "metadata": {
        "colab": {
          "base_uri": "https://localhost:8080/"
        },
        "outputId": "d0427084-64c1-4246-f541-02e1683f5b0f",
        "id": "uHD8HjiqG9IM"
      },
      "execution_count": null,
      "outputs": [
        {
          "output_type": "execute_result",
          "data": {
            "text/plain": [
              "{'fit_intercept': True,\n",
              " 'copy_X': True,\n",
              " 'n_jobs': None,\n",
              " 'positive': False,\n",
              " 'feature_names_in_': array(['availability_365', 'host_response_rate', 'number_of_reviews',\n",
              "        'accommodates'], dtype=object),\n",
              " 'n_features_in_': 4,\n",
              " 'coef_': array([ 1.00243895e+01, -6.95452057e+03,  5.36367570e+00,  5.36059102e+02]),\n",
              " 'rank_': 4,\n",
              " 'singular_': array([1319.56871783,  443.45621537,   29.79057445,    2.95706661]),\n",
              " 'intercept_': 4535.045468991679}"
            ]
          },
          "metadata": {},
          "execution_count": 87
        }
      ]
    },
    {
      "cell_type": "markdown",
      "source": [
        "**Modelo matemático: y= 1.00243895e+01 + -6.95452057e+03 + 5.36367570e+00 + 5.36059102e+02+ 4535.045468991679**"
      ],
      "metadata": {
        "id": "Ylcah516G9IM"
      }
    },
    {
      "cell_type": "code",
      "source": [
        "#Corroboramos cual es el coeficiente de Determinación de nuestro modelo\n",
        "coef_Deter5=model.score(X=Vars_Indep, y=Var_Dep)\n",
        "coef_Deter5"
      ],
      "metadata": {
        "colab": {
          "base_uri": "https://localhost:8080/"
        },
        "outputId": "96aeb410-019d-4854-a659-bf37aacb8edc",
        "id": "dYfBpcFCG9IM"
      },
      "execution_count": null,
      "outputs": [
        {
          "output_type": "execute_result",
          "data": {
            "text/plain": [
              "0.1899980016243954"
            ]
          },
          "metadata": {},
          "execution_count": 88
        }
      ]
    },
    {
      "cell_type": "code",
      "source": [
        "#Corroboramos cual es el coeficiente de Correlación de nuestro modelo\n",
        "coef_Correl5=np.sqrt(coef_Deter5)\n",
        "coef_Correl5"
      ],
      "metadata": {
        "colab": {
          "base_uri": "https://localhost:8080/"
        },
        "outputId": "c378fd59-a18e-42f0-c626-e69114943e71",
        "id": "lXvO7DV2G9IM"
      },
      "execution_count": null,
      "outputs": [
        {
          "output_type": "execute_result",
          "data": {
            "text/plain": [
              "0.43588760205401045"
            ]
          },
          "metadata": {},
          "execution_count": 89
        }
      ]
    },
    {
      "cell_type": "code",
      "source": [
        "det.append(coef_Deter5)\n",
        "corr.append(np.sqrt(coef_Correl5))\n",
        "Ta_V.append(\"Hotel room / Price vs availability_365, host_response_rate, number_of_reviews, accommodates\")"
      ],
      "metadata": {
        "id": "9NcE9T9mG9IM"
      },
      "execution_count": null,
      "outputs": []
    },
    {
      "cell_type": "markdown",
      "source": [
        "### host_acceptance_rate vs number_of_reviews,review_scores_cleanliness,review_scores_communication"
      ],
      "metadata": {
        "id": "CprFfFIoG9IM"
      }
    },
    {
      "cell_type": "code",
      "source": [
        "from turtle import color\n",
        "\n",
        "sns.scatterplot(x='number_of_reviews', y='host_acceptance_rate', color=\"red\", data=HR_MEX)\n",
        "sns.scatterplot(x='review_scores_cleanliness', y='host_acceptance_rate', color=\"blue\", data=HR_MEX)\n",
        "sns.scatterplot(x='review_scores_communication', y='host_acceptance_rate', color=\"green\", data=HR_MEX)"
      ],
      "metadata": {
        "colab": {
          "base_uri": "https://localhost:8080/",
          "height": 468
        },
        "outputId": "bf876380-46cb-4628-d0f6-79f5635060ba",
        "id": "pXA7it9DG9IM"
      },
      "execution_count": null,
      "outputs": [
        {
          "output_type": "execute_result",
          "data": {
            "text/plain": [
              "<Axes: xlabel='number_of_reviews', ylabel='host_acceptance_rate'>"
            ]
          },
          "metadata": {},
          "execution_count": 91
        },
        {
          "output_type": "display_data",
          "data": {
            "text/plain": [
              "<Figure size 640x480 with 1 Axes>"
            ],
            "image/png": "[encoded data removed]"
          },
          "metadata": {}
        }
      ]
    },
    {
      "cell_type": "code",
      "source": [
        "#Declaramos las variables dependientes e independientes para la regresión lineal\n",
        "Vars_Indep= HR_MEX[['number_of_reviews','review_scores_cleanliness','review_scores_communication']]\n",
        "Var_Dep= HR_MEX['host_acceptance_rate']"
      ],
      "metadata": {
        "id": "bMrfISiSG9IM"
      },
      "execution_count": null,
      "outputs": []
    },
    {
      "cell_type": "code",
      "source": [
        "#Se define model como la función de regresión lineal\n",
        "from sklearn.linear_model import LinearRegression\n",
        "model= LinearRegression()"
      ],
      "metadata": {
        "id": "gNGfC_6PG9IM"
      },
      "execution_count": null,
      "outputs": []
    },
    {
      "cell_type": "code",
      "source": [
        "#Verificamos la función relacionada al modelo\n",
        "type(model)"
      ],
      "metadata": {
        "colab": {
          "base_uri": "https://localhost:8080/"
        },
        "outputId": "98a2478e-e9bd-422e-adf1-691a3a07ec5e",
        "id": "RJ7mjonEG9IM"
      },
      "execution_count": null,
      "outputs": [
        {
          "output_type": "execute_result",
          "data": {
            "text/plain": [
              "sklearn.linear_model._base.LinearRegression"
            ]
          },
          "metadata": {},
          "execution_count": 94
        }
      ]
    },
    {
      "cell_type": "code",
      "source": [
        "#Ajustamos el modelo con las variables antes declaradas\n",
        "model.fit(X=Vars_Indep, y=Var_Dep)"
      ],
      "metadata": {
        "colab": {
          "base_uri": "https://localhost:8080/",
          "height": 75
        },
        "outputId": "b503c376-97fa-4b89-8050-6e1766e797c4",
        "id": "0tmi_XNjG9IM"
      },
      "execution_count": null,
      "outputs": [
        {
          "output_type": "execute_result",
          "data": {
            "text/plain": [
              "LinearRegression()"
            ],
            "text/html": [
              "<style>#sk-container-id-6 {color: black;background-color: white;}#sk-container-id-6 pre{padding: 0;}#sk-container-id-6 div.sk-toggleable {background-color: white;}#sk-container-id-6 label.sk-toggleable__label {cursor: pointer;display: block;width: 100%;margin-bottom: 0;padding: 0.3em;box-sizing: border-box;text-align: center;}#sk-container-id-6 label.sk-toggleable__label-arrow:before {content: \"▸\";float: left;margin-right: 0.25em;color: #696969;}#sk-container-id-6 label.sk-toggleable__label-arrow:hover:before {color: black;}#sk-container-id-6 div.sk-estimator:hover label.sk-toggleable__label-arrow:before {color: black;}#sk-container-id-6 div.sk-toggleable__content {max-height: 0;max-width: 0;overflow: hidden;text-align: left;background-color: #f0f8ff;}#sk-container-id-6 div.sk-toggleable__content pre {margin: 0.2em;color: black;border-radius: 0.25em;background-color: #f0f8ff;}#sk-container-id-6 input.sk-toggleable__control:checked~div.sk-toggleable__content {max-height: 200px;max-width: 100%;overflow: auto;}#sk-container-id-6 input.sk-toggleable__control:checked~label.sk-toggleable__label-arrow:before {content: \"▾\";}#sk-container-id-6 div.sk-estimator input.sk-toggleable__control:checked~label.sk-toggleable__label {background-color: #d4ebff;}#sk-container-id-6 div.sk-label input.sk-toggleable__control:checked~label.sk-toggleable__label {background-color: #d4ebff;}#sk-container-id-6 input.sk-hidden--visually {border: 0;clip: rect(1px 1px 1px 1px);clip: rect(1px, 1px, 1px, 1px);height: 1px;margin: -1px;overflow: hidden;padding: 0;position: absolute;width: 1px;}#sk-container-id-6 div.sk-estimator {font-family: monospace;background-color: #f0f8ff;border: 1px dotted black;border-radius: 0.25em;box-sizing: border-box;margin-bottom: 0.5em;}#sk-container-id-6 div.sk-estimator:hover {background-color: #d4ebff;}#sk-container-id-6 div.sk-parallel-item::after {content: \"\";width: 100%;border-bottom: 1px solid gray;flex-grow: 1;}#sk-container-id-6 div.sk-label:hover label.sk-toggleable__label {background-color: #d4ebff;}#sk-container-id-6 div.sk-serial::before {content: \"\";position: absolute;border-left: 1px solid gray;box-sizing: border-box;top: 0;bottom: 0;left: 50%;z-index: 0;}#sk-container-id-6 div.sk-serial {display: flex;flex-direction: column;align-items: center;background-color: white;padding-right: 0.2em;padding-left: 0.2em;position: relative;}#sk-container-id-6 div.sk-item {position: relative;z-index: 1;}#sk-container-id-6 div.sk-parallel {display: flex;align-items: stretch;justify-content: center;background-color: white;position: relative;}#sk-container-id-6 div.sk-item::before, #sk-container-id-6 div.sk-parallel-item::before {content: \"\";position: absolute;border-left: 1px solid gray;box-sizing: border-box;top: 0;bottom: 0;left: 50%;z-index: -1;}#sk-container-id-6 div.sk-parallel-item {display: flex;flex-direction: column;z-index: 1;position: relative;background-color: white;}#sk-container-id-6 div.sk-parallel-item:first-child::after {align-self: flex-end;width: 50%;}#sk-container-id-6 div.sk-parallel-item:last-child::after {align-self: flex-start;width: 50%;}#sk-container-id-6 div.sk-parallel-item:only-child::after {width: 0;}#sk-container-id-6 div.sk-dashed-wrapped {border: 1px dashed gray;margin: 0 0.4em 0.5em 0.4em;box-sizing: border-box;padding-bottom: 0.4em;background-color: white;}#sk-container-id-6 div.sk-label label {font-family: monospace;font-weight: bold;display: inline-block;line-height: 1.2em;}#sk-container-id-6 div.sk-label-container {text-align: center;}#sk-container-id-6 div.sk-container {/* jupyter's `normalize.less` sets `[hidden] { display: none; }` but bootstrap.min.css set `[hidden] { display: none !important; }` so we also need the `!important` here to be able to override the default hidden behavior on the sphinx rendered scikit-learn.org. See: https://github.com/scikit-learn/scikit-learn/issues/21755 */display: inline-block !important;position: relative;}#sk-container-id-6 div.sk-text-repr-fallback {display: none;}</style><div id=\"sk-container-id-6\" class=\"sk-top-container\"><div class=\"sk-text-repr-fallback\"><pre>LinearRegression()</pre><b>In a Jupyter environment, please rerun this cell to show the HTML representation or trust the notebook. <br />On GitHub, the HTML representation is unable to render, please try loading this page with nbviewer.org.</b></div><div class=\"sk-container\" hidden><div class=\"sk-item\"><div class=\"sk-estimator sk-toggleable\"><input class=\"sk-toggleable__control sk-hidden--visually\" id=\"sk-estimator-id-6\" type=\"checkbox\" checked><label for=\"sk-estimator-id-6\" class=\"sk-toggleable__label sk-toggleable__label-arrow\">LinearRegression</label><div class=\"sk-toggleable__content\"><pre>LinearRegression()</pre></div></div></div></div></div>"
            ]
          },
          "metadata": {},
          "execution_count": 95
        }
      ]
    },
    {
      "cell_type": "code",
      "source": [
        "#Verificamos los coeficientes obtenidos para el modelo ajustado\n",
        "model.__dict__"
      ],
      "metadata": {
        "colab": {
          "base_uri": "https://localhost:8080/"
        },
        "outputId": "8b903dd4-f8ef-429a-fc9b-8e68fce16210",
        "id": "J6yhHTmzG9IM"
      },
      "execution_count": null,
      "outputs": [
        {
          "output_type": "execute_result",
          "data": {
            "text/plain": [
              "{'fit_intercept': True,\n",
              " 'copy_X': True,\n",
              " 'n_jobs': None,\n",
              " 'positive': False,\n",
              " 'feature_names_in_': array(['number_of_reviews', 'review_scores_cleanliness',\n",
              "        'review_scores_communication'], dtype=object),\n",
              " 'n_features_in_': 3,\n",
              " 'coef_': array([ 0.0009804 ,  0.03264059, -0.00632845]),\n",
              " 'rank_': 3,\n",
              " 'singular_': array([447.28650836,  29.66729492,   3.46180919]),\n",
              " 'intercept_': 0.7539050167535275}"
            ]
          },
          "metadata": {},
          "execution_count": 96
        }
      ]
    },
    {
      "cell_type": "markdown",
      "source": [
        "**Modelo matemático: y= 0.0009804 +  0.03264059 + -0.00632845 + 0.7539050167535275**"
      ],
      "metadata": {
        "id": "cpCie_wbG9IM"
      }
    },
    {
      "cell_type": "code",
      "source": [
        "#Corroboramos cual es el coeficiente de Determinación de nuestro modelo\n",
        "coef_Deter6=model.score(X=Vars_Indep, y=Var_Dep)\n",
        "coef_Deter6"
      ],
      "metadata": {
        "colab": {
          "base_uri": "https://localhost:8080/"
        },
        "outputId": "e25def2b-d99d-44ce-c1c7-b5e178af62d9",
        "id": "co1m18FaG9IN"
      },
      "execution_count": null,
      "outputs": [
        {
          "output_type": "execute_result",
          "data": {
            "text/plain": [
              "0.08764757862159434"
            ]
          },
          "metadata": {},
          "execution_count": 98
        }
      ]
    },
    {
      "cell_type": "code",
      "source": [
        "#Corroboramos cual es el coeficiente de Correlación de nuestro modelo\n",
        "coef_Correl6=np.sqrt(coef_Deter6)\n",
        "coef_Correl6"
      ],
      "metadata": {
        "colab": {
          "base_uri": "https://localhost:8080/"
        },
        "outputId": "5c2e6cb6-fe56-4d16-d8ab-6bd7378578f3",
        "id": "ncopzYo9G9IN"
      },
      "execution_count": null,
      "outputs": [
        {
          "output_type": "execute_result",
          "data": {
            "text/plain": [
              "0.29605333746065815"
            ]
          },
          "metadata": {},
          "execution_count": 99
        }
      ]
    },
    {
      "cell_type": "code",
      "source": [
        "det.append(coef_Deter6)\n",
        "corr.append(np.sqrt(coef_Correl6))\n",
        "Ta_V.append(\"Hotel room / host_acceptance_rate vs number_of_reviews,review_scores_cleanliness,review_scores_communication\")"
      ],
      "metadata": {
        "id": "NrEZsI9TG9IN"
      },
      "execution_count": null,
      "outputs": []
    },
    {
      "cell_type": "markdown",
      "source": [
        "##Tabla de coeficiente de determinación y correlación"
      ],
      "metadata": {
        "id": "6ZYXOVf3GjwB"
      }
    },
    {
      "cell_type": "code",
      "source": [
        "tabla = pd.DataFrame()\n",
        "tabla['Tipo de habitación y Variables'] = Ta_V\n",
        "tabla['Coef. Determinación'] = det\n",
        "tabla['Coef. Correlación'] = corr\n",
        "tabla"
      ],
      "metadata": {
        "colab": {
          "base_uri": "https://localhost:8080/",
          "height": 206
        },
        "id": "pCdSty89IU-M",
        "outputId": "af3c416c-1778-4203-aaa6-dbb66ad91d5f"
      },
      "execution_count": null,
      "outputs": [
        {
          "output_type": "execute_result",
          "data": {
            "text/plain": [
              "                      Tipo de habitación y Variables  Coef. Determinación  \\\n",
              "0  Private room / host_acceptance_rate vs host_re...             0.406288   \n",
              "1  Private room / Price vs availability_365, host...             0.000609   \n",
              "2  Hotel room / host_acceptance_rate vs host_resp...             0.612788   \n",
              "3  Hotel room / Price vs availability_365, host_r...             0.189998   \n",
              "4  Hotel room / host_acceptance_rate vs number_of...             0.087648   \n",
              "\n",
              "   Coef. Correlación  \n",
              "0           0.798378  \n",
              "1           0.157085  \n",
              "2           0.884764  \n",
              "3           0.660218  \n",
              "4           0.544108  "
            ],
            "text/html": [
              "\n",
              "  <div id=\"df-413524e7-a283-4093-bad9-d3e439cb8f9e\">\n",
              "    <div class=\"colab-df-container\">\n",
              "      <div>\n",
              "<style scoped>\n",
              "    .dataframe tbody tr th:only-of-type {\n",
              "        vertical-align: middle;\n",
              "    }\n",
              "\n",
              "    .dataframe tbody tr th {\n",
              "        vertical-align: top;\n",
              "    }\n",
              "\n",
              "    .dataframe thead th {\n",
              "        text-align: right;\n",
              "    }\n",
              "</style>\n",
              "<table border=\"1\" class=\"dataframe\">\n",
              "  <thead>\n",
              "    <tr style=\"text-align: right;\">\n",
              "      <th></th>\n",
              "      <th>Tipo de habitación y Variables</th>\n",
              "      <th>Coef. Determinación</th>\n",
              "      <th>Coef. Correlación</th>\n",
              "    </tr>\n",
              "  </thead>\n",
              "  <tbody>\n",
              "    <tr>\n",
              "      <th>0</th>\n",
              "      <td>Private room / host_acceptance_rate vs host_re...</td>\n",
              "      <td>0.406288</td>\n",
              "      <td>0.798378</td>\n",
              "    </tr>\n",
              "    <tr>\n",
              "      <th>1</th>\n",
              "      <td>Private room / Price vs availability_365, host...</td>\n",
              "      <td>0.000609</td>\n",
              "      <td>0.157085</td>\n",
              "    </tr>\n",
              "    <tr>\n",
              "      <th>2</th>\n",
              "      <td>Hotel room / host_acceptance_rate vs host_resp...</td>\n",
              "      <td>0.612788</td>\n",
              "      <td>0.884764</td>\n",
              "    </tr>\n",
              "    <tr>\n",
              "      <th>3</th>\n",
              "      <td>Hotel room / Price vs availability_365, host_r...</td>\n",
              "      <td>0.189998</td>\n",
              "      <td>0.660218</td>\n",
              "    </tr>\n",
              "    <tr>\n",
              "      <th>4</th>\n",
              "      <td>Hotel room / host_acceptance_rate vs number_of...</td>\n",
              "      <td>0.087648</td>\n",
              "      <td>0.544108</td>\n",
              "    </tr>\n",
              "  </tbody>\n",
              "</table>\n",
              "</div>\n",
              "      <button class=\"colab-df-convert\" onclick=\"convertToInteractive('df-413524e7-a283-4093-bad9-d3e439cb8f9e')\"\n",
              "              title=\"Convert this dataframe to an interactive table.\"\n",
              "              style=\"display:none;\">\n",
              "        \n",
              "  <svg xmlns=\"http://www.w3.org/2000/svg\" height=\"24px\"viewBox=\"0 0 24 24\"\n",
              "       width=\"24px\">\n",
              "    <path d=\"M0 0h24v24H0V0z\" fill=\"none\"/>\n",
              "    <path d=\"M18.56 5.44l.94 2.06.94-2.06 2.06-.94-2.06-.94-.94-2.06-.94 2.06-2.06.94zm-11 1L8.5 8.5l.94-2.06 2.06-.94-2.06-.94L8.5 2.5l-.94 2.06-2.06.94zm10 10l.94 2.06.94-2.06 2.06-.94-2.06-.94-.94-2.06-.94 2.06-2.06.94z\"/><path d=\"M17.41 7.96l-1.37-1.37c-.4-.4-.92-.59-1.43-.59-.52 0-1.04.2-1.43.59L10.3 9.45l-7.72 7.72c-.78.78-.78 2.05 0 2.83L4 21.41c.39.39.9.59 1.41.59.51 0 1.02-.2 1.41-.59l7.78-7.78 2.81-2.81c.8-.78.8-2.07 0-2.86zM5.41 20L4 18.59l7.72-7.72 1.47 1.35L5.41 20z\"/>\n",
              "  </svg>\n",
              "      </button>\n",
              "      \n",
              "  <style>\n",
              "    .colab-df-container {\n",
              "      display:flex;\n",
              "      flex-wrap:wrap;\n",
              "      gap: 12px;\n",
              "    }\n",
              "\n",
              "    .colab-df-convert {\n",
              "      background-color: #E8F0FE;\n",
              "      border: none;\n",
              "      border-radius: 50%;\n",
              "      cursor: pointer;\n",
              "      display: none;\n",
              "      fill: #1967D2;\n",
              "      height: 32px;\n",
              "      padding: 0 0 0 0;\n",
              "      width: 32px;\n",
              "    }\n",
              "\n",
              "    .colab-df-convert:hover {\n",
              "      background-color: #E2EBFA;\n",
              "      box-shadow: 0px 1px 2px rgba(60, 64, 67, 0.3), 0px 1px 3px 1px rgba(60, 64, 67, 0.15);\n",
              "      fill: #174EA6;\n",
              "    }\n",
              "\n",
              "    [theme=dark] .colab-df-convert {\n",
              "      background-color: #3B4455;\n",
              "      fill: #D2E3FC;\n",
              "    }\n",
              "\n",
              "    [theme=dark] .colab-df-convert:hover {\n",
              "      background-color: #434B5C;\n",
              "      box-shadow: 0px 1px 3px 1px rgba(0, 0, 0, 0.15);\n",
              "      filter: drop-shadow(0px 1px 2px rgba(0, 0, 0, 0.3));\n",
              "      fill: #FFFFFF;\n",
              "    }\n",
              "  </style>\n",
              "\n",
              "      <script>\n",
              "        const buttonEl =\n",
              "          document.querySelector('#df-413524e7-a283-4093-bad9-d3e439cb8f9e button.colab-df-convert');\n",
              "        buttonEl.style.display =\n",
              "          google.colab.kernel.accessAllowed ? 'block' : 'none';\n",
              "\n",
              "        async function convertToInteractive(key) {\n",
              "          const element = document.querySelector('#df-413524e7-a283-4093-bad9-d3e439cb8f9e');\n",
              "          const dataTable =\n",
              "            await google.colab.kernel.invokeFunction('convertToInteractive',\n",
              "                                                     [key], {});\n",
              "          if (!dataTable) return;\n",
              "\n",
              "          const docLinkHtml = 'Like what you see? Visit the ' +\n",
              "            '<a target=\"_blank\" href=https://colab.research.google.com/notebooks/data_table.ipynb>data table notebook</a>'\n",
              "            + ' to learn more about interactive tables.';\n",
              "          element.innerHTML = '';\n",
              "          dataTable['output_type'] = 'display_data';\n",
              "          await google.colab.output.renderOutput(dataTable, element);\n",
              "          const docLink = document.createElement('div');\n",
              "          docLink.innerHTML = docLinkHtml;\n",
              "          element.appendChild(docLink);\n",
              "        }\n",
              "      </script>\n",
              "    </div>\n",
              "  </div>\n",
              "  "
            ]
          },
          "metadata": {},
          "execution_count": 101
        }
      ]
    }
  ]
}